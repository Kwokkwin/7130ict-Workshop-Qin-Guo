{
  "cells": [
    {
      "cell_type": "markdown",
      "metadata": {
        "id": "rUGqs_lXvq-k"
      },
      "source": [
        "# Image Classification by MLP - Fashion MNIST"
      ]
    },
    {
      "cell_type": "markdown",
      "metadata": {
        "id": "hQoIOjAvvq-n"
      },
      "source": [
        "In this exercise, we will try to use a neural network on a simple classification task: classifying images of clothes into 10 classes."
      ]
    },
    {
      "cell_type": "markdown",
      "metadata": {
        "id": "ht8hp5nYvq-n"
      },
      "source": [
        "We will first download the data:"
      ]
    },
    {
      "cell_type": "code",
      "execution_count": 57,
      "metadata": {
        "scrolled": true,
        "colab": {
          "base_uri": "https://localhost:8080/"
        },
        "id": "KUNxCYDXvq-o",
        "outputId": "34591fa6-e0bf-45b3-911f-993bb6498dde"
      },
      "outputs": [
        {
          "output_type": "execute_result",
          "data": {
            "text/plain": [
              "(60000, 28, 28)"
            ]
          },
          "metadata": {},
          "execution_count": 57
        }
      ],
      "source": [
        "from tensorflow.keras.datasets import fashion_mnist\n",
        "\n",
        "#TODO: load dataset\n",
        "(X_train, y_train), (X_test, y_test) = fashion_mnist.load_data()\n",
        "\n",
        "# #TODO: Resample the dataset if needed\n",
        "# X_train = X-train[:10000]\n",
        "# y_train = ...\n",
        "# X_test = ...\n",
        "# y_test = ...\n",
        "\n",
        "X_train.shape\n"
      ]
    },
    {
      "cell_type": "markdown",
      "metadata": {
        "id": "z9BfNmiavq-q"
      },
      "source": [
        "This dataset contains 10 classes:\n",
        "* 0:\tT-shirt/top\n",
        "* 1:\tTrouser\n",
        "* 2:\tPullover\n",
        "* 3:\tDress\n",
        "* 4:\tCoat\n",
        "* 5:\tSandal\n",
        "* 6:\tShirt\n",
        "* 7:\tSneaker\n",
        "* 8:\tBag\n",
        "* 9:\tAnkle boot"
      ]
    },
    {
      "cell_type": "markdown",
      "metadata": {
        "id": "qeF9sWpbvq-q"
      },
      "source": [
        "Now begin by exploring the data. Try to display some images with the associated label."
      ]
    },
    {
      "cell_type": "code",
      "source": [
        "X_train.shape[0]"
      ],
      "metadata": {
        "colab": {
          "base_uri": "https://localhost:8080/"
        },
        "id": "EwLF9Et_2d6h",
        "outputId": "5eb41a85-a194-4661-eab4-d53ef9415be4"
      },
      "execution_count": 58,
      "outputs": [
        {
          "output_type": "execute_result",
          "data": {
            "text/plain": [
              "60000"
            ]
          },
          "metadata": {},
          "execution_count": 58
        }
      ]
    },
    {
      "cell_type": "code",
      "execution_count": 59,
      "metadata": {
        "scrolled": true,
        "colab": {
          "base_uri": "https://localhost:8080/",
          "height": 299
        },
        "id": "N752ma9svq-r",
        "outputId": "ac74928c-7eef-49a0-d7b2-051e20728fd0"
      },
      "outputs": [
        {
          "output_type": "stream",
          "name": "stdout",
          "text": [
            "9\n"
          ]
        },
        {
          "output_type": "display_data",
          "data": {
            "text/plain": [
              "<Figure size 432x288 with 1 Axes>"
            ],
            "image/png": "[encoded data removed]"
          },
          "metadata": {
            "needs_background": "light"
          }
        }
      ],
      "source": [
        "# TODO: Explore the data, display some input images\n",
        "%matplotlib inline\n",
        "import matplotlib.pyplot as plt\n",
        "import numpy as np\n",
        "\n",
        "label_class = ['top', 'trouser', 'pullover', 'dress', 'coat', 'sandal', 'shirt', 'sneaker', 'bag', 'ankle boot']\n",
        "\n",
        "# np.random.seed(0)\n",
        "idx = np.random.randint(X_train.shape[0])\n",
        "plt.imshow(X_train[idx],cmap='gray_r')\n",
        "print(y_train[idx])\n",
        "plt.title(label_class[y_train[idx]])\n",
        "plt.show()"
      ]
    },
    {
      "cell_type": "markdown",
      "metadata": {
        "id": "7kUl0lqSvq-s"
      },
      "source": [
        "**Before going further**: what methods could you use to perform such a classification task?"
      ]
    },
    {
      "cell_type": "markdown",
      "metadata": {
        "id": "8pRjSY_Ivq-s"
      },
      "source": [
        "---"
      ]
    },
    {
      "cell_type": "markdown",
      "metadata": {
        "id": "3IwGPBZ2vq-s"
      },
      "source": [
        "The first method you will try is using neural networks. First step is the data preparation: data rescaling, label preparation.\n",
        "\n",
        "Hint: you can use the Keras function `to_categorical`"
      ]
    },
    {
      "cell_type": "code",
      "execution_count": 60,
      "metadata": {
        "colab": {
          "base_uri": "https://localhost:8080/"
        },
        "id": "0mOMTyzuvq-t",
        "outputId": "4324b531-3a05-4a29-e085-864dcd15c699"
      },
      "outputs": [
        {
          "output_type": "stream",
          "name": "stdout",
          "text": [
            "(60000, 28, 28)\n",
            "(60000, 784)\n"
          ]
        }
      ],
      "source": [
        "# TODO: Make the data preparation\n",
        "from tensorflow.keras.utils import to_categorical\n",
        "\n",
        "y_train_cat =to_categorical(y_train)\n",
        "y_test_cat = to_categorical(y_test)\n",
        "\n",
        "X_train_norm = X_train/255\n",
        "X_test_norm = X_test/255\n",
        "\n",
        "# TODO: reshape the image data (2D array) into input 1D array for a neural network\n",
        "print(X_train_norm.shape)\n",
        "X_train_norm = X_train_norm.reshape(X_train_norm.shape[0],np.prod(X_train_norm.shape[1:]))\n",
        "print(X_train_norm.shape)\n",
        "X_test_norm = X_test_norm.reshape(X_test_norm.shape[0],np.prod(X_test_norm.shape[1:]))"
      ]
    },
    {
      "cell_type": "markdown",
      "metadata": {
        "id": "4Iqpozxzvq-t"
      },
      "source": [
        "Next step: model building with Keras. Build your neural network architecture. At first, I would recommend a light architecture: no more than 2 hidden layers, with about 10 units per layer. Put that model into a function, so that you can reuse it later."
      ]
    },
    {
      "cell_type": "code",
      "execution_count": 61,
      "metadata": {
        "colab": {
          "base_uri": "https://localhost:8080/"
        },
        "id": "qAWxZKg1vq-u",
        "outputId": "711b49be-25ee-4a1c-8d6d-24a58669aa8f"
      },
      "outputs": [
        {
          "output_type": "stream",
          "name": "stdout",
          "text": [
            "Model: \"sequential_21\"\n",
            "_________________________________________________________________\n",
            " Layer (type)                Output Shape              Param #   \n",
            "=================================================================\n",
            " dense_67 (Dense)            (None, 10)                7850      \n",
            "                                                                 \n",
            " dense_68 (Dense)            (None, 10)                110       \n",
            "                                                                 \n",
            " dense_69 (Dense)            (None, 10)                110       \n",
            "                                                                 \n",
            "=================================================================\n",
            "Total params: 8,070\n",
            "Trainable params: 8,070\n",
            "Non-trainable params: 0\n",
            "_________________________________________________________________\n"
          ]
        }
      ],
      "source": [
        "# TODO: Build your model\n",
        "from tensorflow.keras.models import Sequential\n",
        "from tensorflow.keras.layers import Dense\n",
        "\n",
        "def my_model(input_dim):\n",
        "    # Create the Sequential object\n",
        "    model = Sequential()\n",
        "\n",
        "    # Add 2 dense layers with 10 neurons each using sigmoid or relu activation\n",
        "    # model.add(Input(shape=input_dim))\n",
        "    # model.add(Dense(10,activation='sigmoid'))\n",
        "    model.add(Dense(10,activation='sigmoid',input_dim=input_dim))\n",
        "    #model.add(Dense(10,activation='relu',input_dim=input_dim))\n",
        "    model.add(Dense(10,activation='relu'))\n",
        "   # model.add(Dense(20,activation='relu'))\n",
        "    \n",
        "    # Add the output layer with one unit: the predicted result\n",
        "    model.add(Dense(10, activation='softmax'))\n",
        "    \n",
        "    return model\n",
        "\n",
        "my_model(X_train_norm.shape[1]).summary()"
      ]
    },
    {
      "cell_type": "markdown",
      "metadata": {
        "id": "Anas80gKvq-u"
      },
      "source": [
        "Now compile and fit your model on your training data. Since this is a multiclass classification, the loss is not `binary_crossentropy` anymore, but `categorical_crossentropy`."
      ]
    },
    {
      "cell_type": "code",
      "execution_count": 62,
      "metadata": {
        "scrolled": true,
        "colab": {
          "base_uri": "https://localhost:8080/"
        },
        "id": "GUXwIPTYvq-u",
        "outputId": "a98c9929-5bbb-428b-bcf4-831175cf21c0"
      },
      "outputs": [
        {
          "output_type": "stream",
          "name": "stdout",
          "text": [
            "Epoch 1/100\n",
            "469/469 [==============================] - 2s 3ms/step - loss: 1.3725 - accuracy: 0.5458\n",
            "Epoch 2/100\n",
            "469/469 [==============================] - 1s 3ms/step - loss: 0.7059 - accuracy: 0.7790\n",
            "Epoch 3/100\n",
            "469/469 [==============================] - 1s 3ms/step - loss: 0.5479 - accuracy: 0.8167\n",
            "Epoch 4/100\n",
            "469/469 [==============================] - 1s 3ms/step - loss: 0.4915 - accuracy: 0.8310\n",
            "Epoch 5/100\n",
            "469/469 [==============================] - 1s 3ms/step - loss: 0.4636 - accuracy: 0.8370\n",
            "Epoch 6/100\n",
            "469/469 [==============================] - 1s 3ms/step - loss: 0.4440 - accuracy: 0.8432\n",
            "Epoch 7/100\n",
            "469/469 [==============================] - 1s 3ms/step - loss: 0.4310 - accuracy: 0.8476\n",
            "Epoch 8/100\n",
            "469/469 [==============================] - 1s 3ms/step - loss: 0.4202 - accuracy: 0.8504\n",
            "Epoch 9/100\n",
            "469/469 [==============================] - 2s 3ms/step - loss: 0.4128 - accuracy: 0.8528\n",
            "Epoch 10/100\n",
            "469/469 [==============================] - 2s 3ms/step - loss: 0.4052 - accuracy: 0.8565\n",
            "Epoch 11/100\n",
            "469/469 [==============================] - 1s 3ms/step - loss: 0.3985 - accuracy: 0.8580\n",
            "Epoch 12/100\n",
            "469/469 [==============================] - 2s 3ms/step - loss: 0.3942 - accuracy: 0.8597\n",
            "Epoch 13/100\n",
            "469/469 [==============================] - 1s 3ms/step - loss: 0.3878 - accuracy: 0.8617\n",
            "Epoch 14/100\n",
            "469/469 [==============================] - 1s 3ms/step - loss: 0.3837 - accuracy: 0.8644\n",
            "Epoch 15/100\n",
            "469/469 [==============================] - 1s 3ms/step - loss: 0.3789 - accuracy: 0.8658\n",
            "Epoch 16/100\n",
            "469/469 [==============================] - 1s 3ms/step - loss: 0.3769 - accuracy: 0.8658\n",
            "Epoch 17/100\n",
            "469/469 [==============================] - 1s 3ms/step - loss: 0.3716 - accuracy: 0.8685\n",
            "Epoch 18/100\n",
            "469/469 [==============================] - 1s 3ms/step - loss: 0.3686 - accuracy: 0.8690\n",
            "Epoch 19/100\n",
            "469/469 [==============================] - 1s 3ms/step - loss: 0.3662 - accuracy: 0.8701\n",
            "Epoch 20/100\n",
            "469/469 [==============================] - 1s 3ms/step - loss: 0.3628 - accuracy: 0.8709\n",
            "Epoch 21/100\n",
            "469/469 [==============================] - 1s 3ms/step - loss: 0.3601 - accuracy: 0.8724\n",
            "Epoch 22/100\n",
            "469/469 [==============================] - 1s 3ms/step - loss: 0.3579 - accuracy: 0.8727\n",
            "Epoch 23/100\n",
            "469/469 [==============================] - 1s 3ms/step - loss: 0.3559 - accuracy: 0.8731\n",
            "Epoch 24/100\n",
            "469/469 [==============================] - 2s 3ms/step - loss: 0.3529 - accuracy: 0.8743\n",
            "Epoch 25/100\n",
            "469/469 [==============================] - 1s 3ms/step - loss: 0.3504 - accuracy: 0.8763\n",
            "Epoch 26/100\n",
            "469/469 [==============================] - 1s 3ms/step - loss: 0.3484 - accuracy: 0.8766\n",
            "Epoch 27/100\n",
            "469/469 [==============================] - 1s 3ms/step - loss: 0.3486 - accuracy: 0.8759\n",
            "Epoch 28/100\n",
            "469/469 [==============================] - 1s 3ms/step - loss: 0.3455 - accuracy: 0.8774\n",
            "Epoch 29/100\n",
            "469/469 [==============================] - 1s 3ms/step - loss: 0.3432 - accuracy: 0.8777\n",
            "Epoch 30/100\n",
            "469/469 [==============================] - 1s 3ms/step - loss: 0.3414 - accuracy: 0.8782\n",
            "Epoch 31/100\n",
            "469/469 [==============================] - 1s 3ms/step - loss: 0.3409 - accuracy: 0.8795\n",
            "Epoch 32/100\n",
            "469/469 [==============================] - 1s 3ms/step - loss: 0.3385 - accuracy: 0.8801\n",
            "Epoch 33/100\n",
            "469/469 [==============================] - 1s 3ms/step - loss: 0.3378 - accuracy: 0.8811\n",
            "Epoch 34/100\n",
            "469/469 [==============================] - 2s 4ms/step - loss: 0.3362 - accuracy: 0.8820\n",
            "Epoch 35/100\n",
            "469/469 [==============================] - 2s 5ms/step - loss: 0.3342 - accuracy: 0.8825\n",
            "Epoch 36/100\n",
            "469/469 [==============================] - 1s 3ms/step - loss: 0.3340 - accuracy: 0.8813\n",
            "Epoch 37/100\n",
            "469/469 [==============================] - 1s 3ms/step - loss: 0.3314 - accuracy: 0.8820\n",
            "Epoch 38/100\n",
            "469/469 [==============================] - 1s 3ms/step - loss: 0.3300 - accuracy: 0.8827\n",
            "Epoch 39/100\n",
            "469/469 [==============================] - 1s 3ms/step - loss: 0.3294 - accuracy: 0.8830\n",
            "Epoch 40/100\n",
            "469/469 [==============================] - 1s 3ms/step - loss: 0.3292 - accuracy: 0.8832\n",
            "Epoch 41/100\n",
            "469/469 [==============================] - 1s 3ms/step - loss: 0.3270 - accuracy: 0.8836\n",
            "Epoch 42/100\n",
            "469/469 [==============================] - 1s 3ms/step - loss: 0.3264 - accuracy: 0.8839\n",
            "Epoch 43/100\n",
            "469/469 [==============================] - 1s 3ms/step - loss: 0.3258 - accuracy: 0.8843\n",
            "Epoch 44/100\n",
            "469/469 [==============================] - 1s 3ms/step - loss: 0.3242 - accuracy: 0.8853\n",
            "Epoch 45/100\n",
            "469/469 [==============================] - 1s 3ms/step - loss: 0.3229 - accuracy: 0.8848\n",
            "Epoch 46/100\n",
            "469/469 [==============================] - 1s 3ms/step - loss: 0.3232 - accuracy: 0.8857\n",
            "Epoch 47/100\n",
            "469/469 [==============================] - 1s 3ms/step - loss: 0.3212 - accuracy: 0.8859\n",
            "Epoch 48/100\n",
            "469/469 [==============================] - 1s 3ms/step - loss: 0.3209 - accuracy: 0.8860\n",
            "Epoch 49/100\n",
            "469/469 [==============================] - 1s 3ms/step - loss: 0.3205 - accuracy: 0.8859\n",
            "Epoch 50/100\n",
            "469/469 [==============================] - 1s 3ms/step - loss: 0.3183 - accuracy: 0.8873\n",
            "Epoch 51/100\n",
            "469/469 [==============================] - 1s 3ms/step - loss: 0.3186 - accuracy: 0.8866\n",
            "Epoch 52/100\n",
            "469/469 [==============================] - 1s 3ms/step - loss: 0.3181 - accuracy: 0.8870\n",
            "Epoch 53/100\n",
            "469/469 [==============================] - 1s 3ms/step - loss: 0.3173 - accuracy: 0.8879\n",
            "Epoch 54/100\n",
            "469/469 [==============================] - 1s 3ms/step - loss: 0.3161 - accuracy: 0.8873\n",
            "Epoch 55/100\n",
            "469/469 [==============================] - 1s 3ms/step - loss: 0.3169 - accuracy: 0.8873\n",
            "Epoch 56/100\n",
            "469/469 [==============================] - 1s 3ms/step - loss: 0.3154 - accuracy: 0.8875\n",
            "Epoch 57/100\n",
            "469/469 [==============================] - 1s 3ms/step - loss: 0.3143 - accuracy: 0.8891\n",
            "Epoch 58/100\n",
            "469/469 [==============================] - 1s 3ms/step - loss: 0.3131 - accuracy: 0.8887\n",
            "Epoch 59/100\n",
            "469/469 [==============================] - 1s 3ms/step - loss: 0.3134 - accuracy: 0.8886\n",
            "Epoch 60/100\n",
            "469/469 [==============================] - 1s 3ms/step - loss: 0.3115 - accuracy: 0.8895\n",
            "Epoch 61/100\n",
            "469/469 [==============================] - 1s 3ms/step - loss: 0.3121 - accuracy: 0.8893\n",
            "Epoch 62/100\n",
            "469/469 [==============================] - 1s 3ms/step - loss: 0.3107 - accuracy: 0.8901\n",
            "Epoch 63/100\n",
            "469/469 [==============================] - 1s 3ms/step - loss: 0.3108 - accuracy: 0.8897\n",
            "Epoch 64/100\n",
            "469/469 [==============================] - 1s 3ms/step - loss: 0.3110 - accuracy: 0.8887\n",
            "Epoch 65/100\n",
            "469/469 [==============================] - 2s 3ms/step - loss: 0.3094 - accuracy: 0.8898\n",
            "Epoch 66/100\n",
            "469/469 [==============================] - 1s 3ms/step - loss: 0.3092 - accuracy: 0.8904\n",
            "Epoch 67/100\n",
            "469/469 [==============================] - 1s 3ms/step - loss: 0.3082 - accuracy: 0.8905\n",
            "Epoch 68/100\n",
            "469/469 [==============================] - 1s 3ms/step - loss: 0.3087 - accuracy: 0.8899\n",
            "Epoch 69/100\n",
            "469/469 [==============================] - 1s 3ms/step - loss: 0.3068 - accuracy: 0.8907\n",
            "Epoch 70/100\n",
            "469/469 [==============================] - 1s 3ms/step - loss: 0.3069 - accuracy: 0.8909\n",
            "Epoch 71/100\n",
            "469/469 [==============================] - 1s 3ms/step - loss: 0.3059 - accuracy: 0.8911\n",
            "Epoch 72/100\n",
            "469/469 [==============================] - 1s 3ms/step - loss: 0.3059 - accuracy: 0.8911\n",
            "Epoch 73/100\n",
            "469/469 [==============================] - 1s 3ms/step - loss: 0.3064 - accuracy: 0.8910\n",
            "Epoch 74/100\n",
            "469/469 [==============================] - 1s 3ms/step - loss: 0.3040 - accuracy: 0.8921\n",
            "Epoch 75/100\n",
            "469/469 [==============================] - 2s 3ms/step - loss: 0.3053 - accuracy: 0.8911\n",
            "Epoch 76/100\n",
            "469/469 [==============================] - 1s 3ms/step - loss: 0.3050 - accuracy: 0.8918\n",
            "Epoch 77/100\n",
            "469/469 [==============================] - 1s 3ms/step - loss: 0.3041 - accuracy: 0.8921\n",
            "Epoch 78/100\n",
            "469/469 [==============================] - 1s 3ms/step - loss: 0.3032 - accuracy: 0.8921\n",
            "Epoch 79/100\n",
            "469/469 [==============================] - 1s 3ms/step - loss: 0.3019 - accuracy: 0.8924\n",
            "Epoch 80/100\n",
            "469/469 [==============================] - 2s 3ms/step - loss: 0.3028 - accuracy: 0.8922\n",
            "Epoch 81/100\n",
            "469/469 [==============================] - 1s 3ms/step - loss: 0.3015 - accuracy: 0.8920\n",
            "Epoch 82/100\n",
            "469/469 [==============================] - 1s 3ms/step - loss: 0.3020 - accuracy: 0.8924\n",
            "Epoch 83/100\n",
            "469/469 [==============================] - 1s 3ms/step - loss: 0.2996 - accuracy: 0.8941\n",
            "Epoch 84/100\n",
            "469/469 [==============================] - 1s 3ms/step - loss: 0.3000 - accuracy: 0.8938\n",
            "Epoch 85/100\n",
            "469/469 [==============================] - 1s 3ms/step - loss: 0.3002 - accuracy: 0.8928\n",
            "Epoch 86/100\n",
            "469/469 [==============================] - 1s 3ms/step - loss: 0.3005 - accuracy: 0.8925\n",
            "Epoch 87/100\n",
            "469/469 [==============================] - 1s 3ms/step - loss: 0.2987 - accuracy: 0.8945\n",
            "Epoch 88/100\n",
            "469/469 [==============================] - 1s 3ms/step - loss: 0.2997 - accuracy: 0.8931\n",
            "Epoch 89/100\n",
            "469/469 [==============================] - 1s 3ms/step - loss: 0.2988 - accuracy: 0.8936\n",
            "Epoch 90/100\n",
            "469/469 [==============================] - 1s 3ms/step - loss: 0.2978 - accuracy: 0.8938\n",
            "Epoch 91/100\n",
            "469/469 [==============================] - 1s 3ms/step - loss: 0.2996 - accuracy: 0.8924\n",
            "Epoch 92/100\n",
            "469/469 [==============================] - 1s 3ms/step - loss: 0.2982 - accuracy: 0.8945\n",
            "Epoch 93/100\n",
            "469/469 [==============================] - 1s 3ms/step - loss: 0.2980 - accuracy: 0.8931\n",
            "Epoch 94/100\n",
            "469/469 [==============================] - 1s 3ms/step - loss: 0.2956 - accuracy: 0.8949\n",
            "Epoch 95/100\n",
            "469/469 [==============================] - 1s 3ms/step - loss: 0.2965 - accuracy: 0.8949\n",
            "Epoch 96/100\n",
            "469/469 [==============================] - 1s 3ms/step - loss: 0.2967 - accuracy: 0.8944\n",
            "Epoch 97/100\n",
            "469/469 [==============================] - 2s 3ms/step - loss: 0.2968 - accuracy: 0.8951\n",
            "Epoch 98/100\n",
            "469/469 [==============================] - 1s 3ms/step - loss: 0.2955 - accuracy: 0.8942\n",
            "Epoch 99/100\n",
            "469/469 [==============================] - 1s 3ms/step - loss: 0.2961 - accuracy: 0.8947\n",
            "Epoch 100/100\n",
            "469/469 [==============================] - 1s 3ms/step - loss: 0.2941 - accuracy: 0.8949\n"
          ]
        },
        {
          "output_type": "execute_result",
          "data": {
            "text/plain": [
              "<keras.callbacks.History at 0x7fa5effda650>"
            ]
          },
          "metadata": {},
          "execution_count": 62
        }
      ],
      "source": [
        "import os\n",
        "\n",
        "#https://stackoverflow.com/questions/53014306/error-15-initializing-libiomp5-dylib-but-found-libiomp5-dylib-already-initial\n",
        "# os.environ['KMP_DUPLICATE_LIB_OK']='True' \n",
        "\n",
        "# TODO: Compile and fit your model\n",
        "model = my_model(X_train_norm.shape[1])\n",
        "\n",
        "model.compile(optimizer='adam', loss='categorical_crossentropy', metrics=['accuracy'])\n",
        "\n",
        "model.fit(X_train_norm, y_train_cat, epochs=100, batch_size=128)"
      ]
    },
    {
      "cell_type": "markdown",
      "metadata": {
        "id": "8M5szysNvq-v"
      },
      "source": [
        "Once your model has been trained, compute the accuracy (and other metrics if you want) on the train and test dataset.\n",
        "\n",
        "Be careful, Keras returns softmax output (so an array of 10 values between 0 and 1, for which the sum is equal to 1). To compute correctly the accuracy, you have to convert that array into a categorical array with zeros and a 1."
      ]
    },
    {
      "cell_type": "code",
      "execution_count": 63,
      "metadata": {
        "colab": {
          "base_uri": "https://localhost:8080/"
        },
        "id": "HZZXFkjIvq-v",
        "outputId": "ae83bbe4-d85a-4f0d-fda5-82c16b417b6c"
      },
      "outputs": [
        {
          "output_type": "stream",
          "name": "stdout",
          "text": [
            "accuracy on train with NN: 0.8968166708946228\n",
            "accuracy on test with NN: 0.8568000197410583\n"
          ]
        }
      ],
      "source": [
        "# TODO: Compute the accuracy of your model\n",
        "print('accuracy on train with NN:', model.evaluate(X_train_norm, y_train_cat, verbose=0)[1])\n",
        "print('accuracy on test with NN:', model.evaluate(X_test_norm, y_test_cat, verbose=0)[1])"
      ]
    },
    {
      "cell_type": "markdown",
      "metadata": {
        "id": "FXGVDuicvq-v"
      },
      "source": [
        "What do you think of those results? Can you improve it by changing the number of layers? Of units per layer? The number of epochs? The activation functions?\n",
        "\n",
        "You should try!"
      ]
    },
    {
      "cell_type": "markdown",
      "source": [
        "##The accuracy of model is high. when changing epochs, it is as below:\n",
        "\n",
        "#### when epochs =80(underfitting)\n",
        "* accuracy on train with NN: 0.8902333378791809\n",
        "* accuracy on test with NN: 0.8526999950408936\n",
        "\n",
        "#### when epochs=100, \n",
        "* accuracy on train with NN: 0.8968166708946228\n",
        "* accuracy on test with NN: 0.8568000197410583\n",
        "\n",
        "#### when epochs=120(overfitting)\n",
        "* accuracy on train with NN: 0.8977166414260864\n",
        "* accuracy on test with NN: 0.8521999716758728\n",
        "\n",
        "##I changed the hidden units of layer to 20. The model has not become better:\n",
        "* accuracy on train with NN: 0.8944500088691711\n",
        "* accuracy on test with NN: 0.8508999943733215\n",
        "\n",
        "##I changed the input layer's activation from sigmoid to relu. The model has not become better\n",
        "* accuracy on train with NN: 0.892300009727478\n",
        "* accuracy on test with NN: 0.855400025844574"
      ],
      "metadata": {
        "id": "_myO3afs-PKK"
      }
    },
    {
      "cell_type": "markdown",
      "metadata": {
        "id": "AqinXlpyvq-v"
      },
      "source": [
        "---"
      ]
    },
    {
      "cell_type": "markdown",
      "metadata": {
        "id": "B4UtUzDivq-w"
      },
      "source": [
        "In order to compare your results with more traditional \n",
        "machine learning methods, you will do this work with another method: a PCA followed by a classification model (of your choice). Of course, you can perform hyperparameter optimization using a gridsearch on that model!\n",
        "\n",
        "Fit your model and display the performances."
      ]
    },
    {
      "cell_type": "code",
      "execution_count": 64,
      "metadata": {
        "id": "ZYjMk4JFvq-w"
      },
      "outputs": [],
      "source": [
        "# TODO: Redo the classification with PCA and classification model\n",
        "from sklearn.decomposition import PCA\n",
        "\n",
        "# Reduce from 784 to about 712 dimensions\n",
        "pca = PCA(n_components=0.9)\n",
        "\n",
        "pca.fit(X_train_norm)\n",
        "X_train_pca = pca.transform(X_train_norm)\n",
        "X_test_pca = pca.transform(X_test_norm)"
      ]
    },
    {
      "cell_type": "code",
      "execution_count": 50,
      "metadata": {
        "colab": {
          "base_uri": "https://localhost:8080/"
        },
        "id": "Dfj_-_Dwvq-w",
        "outputId": "1a5bfffd-f9bd-492e-8321-2061eb5cffc8"
      },
      "outputs": [
        {
          "output_type": "stream",
          "name": "stdout",
          "text": [
            "score with RF on train 0.9064333333333333\n",
            "score with RF on train 0.8826\n"
          ]
        }
      ],
      "source": [
        "# TODO: use any classifier you want\n",
        "# from sklearn.ensemble import RandomForestClassifier\n",
        "from sklearn.svm import SVC\n",
        "\n",
        "rf = SVC()\n",
        "\n",
        "rf.fit(X_train_pca, y_train)\n",
        "\n",
        "print('score with RF on train', rf.score(X_train_pca, y_train))\n",
        "print('score with RF on train', rf.score(X_test_pca, y_test))"
      ]
    },
    {
      "cell_type": "code",
      "source": [
        "from sklearn.ensemble import RandomForestClassifier\n",
        "rf = RandomForestClassifier()\n",
        "\n",
        "rf.fit(X_train_pca, y_train)\n",
        "\n",
        "print('score with RF on train', rf.score(X_train_pca, y_train))\n",
        "print('score with RF on train', rf.score(X_test_pca, y_test))"
      ],
      "metadata": {
        "colab": {
          "base_uri": "https://localhost:8080/"
        },
        "id": "VtvXqJNxRE3N",
        "outputId": "94bce033-644c-467b-f352-83d145e86a43"
      },
      "execution_count": 65,
      "outputs": [
        {
          "output_type": "stream",
          "name": "stdout",
          "text": [
            "score with RF on train 1.0\n",
            "score with RF on train 0.8609\n"
          ]
        }
      ]
    },
    {
      "cell_type": "code",
      "source": [
        "# from sklearn.pipeline import Pipeline\n",
        "# pipe = Pipeline([('pca',PCA()),('rf',RandomForestClassifier())])\n",
        "# pipe.fit(X_train_norm,y_train)\n",
        "# print(\"score with Pipeline on train\",pipe.score(X_train_pca,y_train))\n",
        "# print(\"score with Pipeline on test\",pipe.score(X_test_pca,y_test))"
      ],
      "metadata": {
        "id": "czPBDAJpjH6w"
      },
      "execution_count": null,
      "outputs": []
    },
    {
      "cell_type": "markdown",
      "metadata": {
        "id": "ptdlLSUmvq-w"
      },
      "source": [
        "Are the performances different? Can you explain why?"
      ]
    },
    {
      "cell_type": "markdown",
      "source": [
        "* Traditional machine learning method has featuring extrantion before going further algorithms. Deep learning(Neural network) algorithms require much less human intervention.\n",
        "* Traditional machine learning algorithms have a rather simple structure, such as linear regression or a decision tree, deep learning is based on an artificial neural network. It has multi-layers"
      ],
      "metadata": {
        "id": "eyZU1lH1dLGX"
      }
    },
    {
      "cell_type": "markdown",
      "metadata": {
        "id": "WseZD8KMvq-x"
      },
      "source": [
        "If you still have time, you could try to use scikit-learn's `Pipeline` to perform the hyperparameter optimization jointly on the PCA and the classification model. This might improve your performances."
      ]
    }
  ],
  "metadata": {
    "kernelspec": {
      "display_name": "Python 3 (ipykernel)",
      "language": "python",
      "name": "python3"
    },
    "language_info": {
      "codemirror_mode": {
        "name": "ipython",
        "version": 3
      },
      "file_extension": ".py",
      "mimetype": "text/x-python",
      "name": "python",
      "nbconvert_exporter": "python",
      "pygments_lexer": "ipython3",
      "version": "3.9.7"
    },
    "toc": {
      "base_numbering": 1,
      "nav_menu": {},
      "number_sections": true,
      "sideBar": true,
      "skip_h1_title": false,
      "title_cell": "Table of Contents",
      "title_sidebar": "Contents",
      "toc_cell": false,
      "toc_position": {},
      "toc_section_display": true,
      "toc_window_display": false
    },
    "colab": {
      "name": "Fashion.ipynb",
      "provenance": [],
      "collapsed_sections": []
    }
  },
  "nbformat": 4,
  "nbformat_minor": 0
}