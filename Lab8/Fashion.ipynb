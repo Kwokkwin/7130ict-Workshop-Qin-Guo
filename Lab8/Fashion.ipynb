{
  "cells": [
    {
      "cell_type": "markdown",
      "metadata": {
        "id": "view-in-github",
        "colab_type": "text"
      },
      "source": [
        "<a href=\"https://colab.research.google.com/github/Kwokkwin/7130ict-Workshop-Qin-Guo/blob/main/Lab8/Fashion.ipynb\" target=\"_parent\"><img src=\"https://colab.research.google.com/assets/colab-badge.svg\" alt=\"Open In Colab\"/></a>"
      ]
    },
    {
      "cell_type": "markdown",
      "metadata": {
        "id": "rUGqs_lXvq-k"
      },
      "source": [
        "# Image Classification by MLP - Fashion MNIST"
      ]
    },
    {
      "cell_type": "markdown",
      "metadata": {
        "id": "hQoIOjAvvq-n"
      },
      "source": [
        "In this exercise, we will try to use a neural network on a simple classification task: classifying images of clothes into 10 classes."
      ]
    },
    {
      "cell_type": "markdown",
      "metadata": {
        "id": "ht8hp5nYvq-n"
      },
      "source": [
        "We will first download the data:"
      ]
    },
    {
      "cell_type": "code",
      "execution_count": 14,
      "metadata": {
        "scrolled": true,
        "colab": {
          "base_uri": "https://localhost:8080/"
        },
        "id": "KUNxCYDXvq-o",
        "outputId": "0e0e8761-b997-4b9d-f362-9ba231aca530"
      },
      "outputs": [
        {
          "output_type": "execute_result",
          "data": {
            "text/plain": [
              "(60000, 28, 28)"
            ]
          },
          "metadata": {},
          "execution_count": 14
        }
      ],
      "source": [
        "from tensorflow.keras.datasets import fashion_mnist\n",
        "\n",
        "#TODO: load dataset\n",
        "(X_train, y_train), (X_test, y_test) = fashion_mnist.load_data()\n",
        "\n",
        "# #TODO: Resample the dataset if needed\n",
        "# X_train = X-train[:10000]\n",
        "# y_train = ...\n",
        "# X_test = ...\n",
        "# y_test = ...\n",
        "\n",
        "X_train.shape\n"
      ]
    },
    {
      "cell_type": "markdown",
      "metadata": {
        "id": "z9BfNmiavq-q"
      },
      "source": [
        "This dataset contains 10 classes:\n",
        "* 0:\tT-shirt/top\n",
        "* 1:\tTrouser\n",
        "* 2:\tPullover\n",
        "* 3:\tDress\n",
        "* 4:\tCoat\n",
        "* 5:\tSandal\n",
        "* 6:\tShirt\n",
        "* 7:\tSneaker\n",
        "* 8:\tBag\n",
        "* 9:\tAnkle boot"
      ]
    },
    {
      "cell_type": "markdown",
      "metadata": {
        "id": "qeF9sWpbvq-q"
      },
      "source": [
        "Now begin by exploring the data. Try to display some images with the associated label."
      ]
    },
    {
      "cell_type": "code",
      "execution_count": 12,
      "metadata": {
        "scrolled": true,
        "colab": {
          "base_uri": "https://localhost:8080/",
          "height": 299
        },
        "id": "N752ma9svq-r",
        "outputId": "7f98cecc-f46e-4e64-989f-4120105cc8ba"
      },
      "outputs": [
        {
          "output_type": "stream",
          "name": "stdout",
          "text": [
            "9\n"
          ]
        },
        {
          "output_type": "display_data",
          "data": {
            "text/plain": [
              "<Figure size 432x288 with 1 Axes>"
            ],
            "image/png": "[encoded data removed]"
          },
          "metadata": {
            "needs_background": "light"
          }
        }
      ],
      "source": [
        "# TODO: Explore the data, display some input images\n",
        "%matplotlib inline\n",
        "import matplotlib.pyplot as plt\n",
        "import numpy as np\n",
        "\n",
        "label_class = ['top', 'trouser', 'pullover', 'dress', 'coat', 'sandal', 'shirt', 'sneaker', 'bag', 'ankle boot']\n",
        "\n",
        "# np.random.seed(0)\n",
        "idx = np.random.randint(X_train.shape[0])\n",
        "plt.imshow(X_train[idx],cmap='gray_r')\n",
        "print(y_train[idx])\n",
        "plt.title(label_class[y_train[idx]])\n",
        "plt.show()"
      ]
    },
    {
      "cell_type": "markdown",
      "metadata": {
        "id": "7kUl0lqSvq-s"
      },
      "source": [
        "**Before going further**: what methods could you use to perform such a classification task?"
      ]
    },
    {
      "cell_type": "markdown",
      "metadata": {
        "id": "8pRjSY_Ivq-s"
      },
      "source": [
        "---"
      ]
    },
    {
      "cell_type": "markdown",
      "metadata": {
        "id": "3IwGPBZ2vq-s"
      },
      "source": [
        "The first method you will try is using neural networks. First step is the data preparation: data rescaling, label preparation.\n",
        "\n",
        "Hint: you can use the Keras function `to_categorical`"
      ]
    },
    {
      "cell_type": "code",
      "execution_count": 20,
      "metadata": {
        "colab": {
          "base_uri": "https://localhost:8080/"
        },
        "id": "0mOMTyzuvq-t",
        "outputId": "2c84ba26-7bb5-4825-9efb-8912c03e982b"
      },
      "outputs": [
        {
          "output_type": "stream",
          "name": "stdout",
          "text": [
            "(60000, 28, 28)\n",
            "(60000, 784)\n"
          ]
        }
      ],
      "source": [
        "# TODO: Make the data preparation\n",
        "from tensorflow.keras.utils import to_categorical\n",
        "\n",
        "y_train_cat =to_categorical(y_train)\n",
        "y_test_cat = to_categorical(y_test)\n",
        "\n",
        "X_train_norm = X_train/255\n",
        "X_test_norm = X_test/255\n",
        "\n",
        "# TODO: reshape the image data (2D array) into input 1D array for a neural network\n",
        "print(X_train_norm.shape)\n",
        "X_train_norm = X_train_norm.reshape(X_train_norm.shape[0],np.prod(X_train_norm.shape[1:]))\n",
        "print(X_train_norm.shape)\n",
        "X_test_norm = X_test_norm.reshape(X_test_norm.shape[0],np.prod(X_test_norm.shape[1:]))"
      ]
    },
    {
      "cell_type": "markdown",
      "metadata": {
        "id": "4Iqpozxzvq-t"
      },
      "source": [
        "Next step: model building with Keras. Build your neural network architecture. At first, I would recommend a light architecture: no more than 2 hidden layers, with about 10 units per layer. Put that model into a function, so that you can reuse it later."
      ]
    },
    {
      "cell_type": "code",
      "execution_count": 24,
      "metadata": {
        "colab": {
          "base_uri": "https://localhost:8080/"
        },
        "id": "qAWxZKg1vq-u",
        "outputId": "a38d7218-c702-4178-e588-df48c9a581e6"
      },
      "outputs": [
        {
          "output_type": "stream",
          "name": "stdout",
          "text": [
            "Model: \"sequential_1\"\n",
            "_________________________________________________________________\n",
            " Layer (type)                Output Shape              Param #   \n",
            "=================================================================\n",
            " dense_3 (Dense)             (None, 10)                7850      \n",
            "                                                                 \n",
            " dense_4 (Dense)             (None, 10)                110       \n",
            "                                                                 \n",
            " dense_5 (Dense)             (None, 10)                110       \n",
            "                                                                 \n",
            "=================================================================\n",
            "Total params: 8,070\n",
            "Trainable params: 8,070\n",
            "Non-trainable params: 0\n",
            "_________________________________________________________________\n"
          ]
        }
      ],
      "source": [
        "# TODO: Build your model\n",
        "from tensorflow.keras.models import Sequential\n",
        "from tensorflow.keras.layers import Dense\n",
        "\n",
        "def my_model(input_dim):\n",
        "    # Create the Sequential object\n",
        "    model = Sequential()\n",
        "\n",
        "    # Add 2 dense layers with 10 neurons each using sigmoid or relu activation\n",
        "    # model.add(Input(shape=input_dim))\n",
        "    # model.add(Dense(10,activation='sigmoid'))\n",
        "    model.add(Dense(10,activation='sigmoid',input_dim=input_dim))\n",
        "    model.add(Dense(10,activation='relu'))\n",
        "    \n",
        "    # Add the output layer with one unit: the predicted result\n",
        "    model.add(Dense(10, activation='softmax'))\n",
        "    \n",
        "    return model\n",
        "\n",
        "my_model(X_train_norm.shape[1]).summary()"
      ]
    },
    {
      "cell_type": "markdown",
      "metadata": {
        "id": "Anas80gKvq-u"
      },
      "source": [
        "Now compile and fit your model on your training data. Since this is a multiclass classification, the loss is not `binary_crossentropy` anymore, but `categorical_crossentropy`."
      ]
    },
    {
      "cell_type": "code",
      "execution_count": 25,
      "metadata": {
        "scrolled": true,
        "colab": {
          "base_uri": "https://localhost:8080/"
        },
        "id": "GUXwIPTYvq-u",
        "outputId": "1c453966-f5fe-444a-ecdc-b395deb85f5d"
      },
      "outputs": [
        {
          "output_type": "stream",
          "name": "stdout",
          "text": [
            "Epoch 1/100\n",
            "469/469 [==============================] - 2s 2ms/step - loss: 1.2575 - accuracy: 0.6228\n",
            "Epoch 2/100\n",
            "469/469 [==============================] - 1s 2ms/step - loss: 0.6256 - accuracy: 0.8010\n",
            "Epoch 3/100\n",
            "469/469 [==============================] - 1s 2ms/step - loss: 0.5204 - accuracy: 0.8258\n",
            "Epoch 4/100\n",
            "469/469 [==============================] - 1s 2ms/step - loss: 0.4780 - accuracy: 0.8357\n",
            "Epoch 5/100\n",
            "469/469 [==============================] - 1s 2ms/step - loss: 0.4542 - accuracy: 0.8422\n",
            "Epoch 6/100\n",
            "469/469 [==============================] - 1s 2ms/step - loss: 0.4362 - accuracy: 0.8470\n",
            "Epoch 7/100\n",
            "469/469 [==============================] - 1s 2ms/step - loss: 0.4206 - accuracy: 0.8510\n",
            "Epoch 8/100\n",
            "469/469 [==============================] - 1s 2ms/step - loss: 0.4084 - accuracy: 0.8551\n",
            "Epoch 9/100\n",
            "469/469 [==============================] - 1s 2ms/step - loss: 0.3998 - accuracy: 0.8577\n",
            "Epoch 10/100\n",
            "469/469 [==============================] - 1s 2ms/step - loss: 0.3927 - accuracy: 0.8601\n",
            "Epoch 11/100\n",
            "469/469 [==============================] - 1s 2ms/step - loss: 0.3874 - accuracy: 0.8612\n",
            "Epoch 12/100\n",
            "469/469 [==============================] - 1s 2ms/step - loss: 0.3819 - accuracy: 0.8633\n",
            "Epoch 13/100\n",
            "469/469 [==============================] - 1s 2ms/step - loss: 0.3761 - accuracy: 0.8654\n",
            "Epoch 14/100\n",
            "469/469 [==============================] - 1s 2ms/step - loss: 0.3732 - accuracy: 0.8659\n",
            "Epoch 15/100\n",
            "469/469 [==============================] - 1s 2ms/step - loss: 0.3701 - accuracy: 0.8672\n",
            "Epoch 16/100\n",
            "469/469 [==============================] - 1s 2ms/step - loss: 0.3675 - accuracy: 0.8672\n",
            "Epoch 17/100\n",
            "469/469 [==============================] - 1s 2ms/step - loss: 0.3635 - accuracy: 0.8693\n",
            "Epoch 18/100\n",
            "469/469 [==============================] - 1s 2ms/step - loss: 0.3611 - accuracy: 0.8698\n",
            "Epoch 19/100\n",
            "469/469 [==============================] - 1s 2ms/step - loss: 0.3590 - accuracy: 0.8715\n",
            "Epoch 20/100\n",
            "469/469 [==============================] - 1s 2ms/step - loss: 0.3559 - accuracy: 0.8718\n",
            "Epoch 21/100\n",
            "469/469 [==============================] - 1s 2ms/step - loss: 0.3536 - accuracy: 0.8727\n",
            "Epoch 22/100\n",
            "469/469 [==============================] - 1s 2ms/step - loss: 0.3536 - accuracy: 0.8722\n",
            "Epoch 23/100\n",
            "469/469 [==============================] - 1s 2ms/step - loss: 0.3498 - accuracy: 0.8730\n",
            "Epoch 24/100\n",
            "469/469 [==============================] - 1s 3ms/step - loss: 0.3485 - accuracy: 0.8741\n",
            "Epoch 25/100\n",
            "469/469 [==============================] - 1s 2ms/step - loss: 0.3458 - accuracy: 0.8751\n",
            "Epoch 26/100\n",
            "469/469 [==============================] - 1s 2ms/step - loss: 0.3453 - accuracy: 0.8750\n",
            "Epoch 27/100\n",
            "469/469 [==============================] - 1s 2ms/step - loss: 0.3435 - accuracy: 0.8759\n",
            "Epoch 28/100\n",
            "469/469 [==============================] - 1s 2ms/step - loss: 0.3421 - accuracy: 0.8766\n",
            "Epoch 29/100\n",
            "469/469 [==============================] - 1s 2ms/step - loss: 0.3395 - accuracy: 0.8779\n",
            "Epoch 30/100\n",
            "469/469 [==============================] - 1s 2ms/step - loss: 0.3377 - accuracy: 0.8779\n",
            "Epoch 31/100\n",
            "469/469 [==============================] - 1s 2ms/step - loss: 0.3390 - accuracy: 0.8774\n",
            "Epoch 32/100\n",
            "469/469 [==============================] - 1s 2ms/step - loss: 0.3364 - accuracy: 0.8783\n",
            "Epoch 33/100\n",
            "469/469 [==============================] - 1s 2ms/step - loss: 0.3344 - accuracy: 0.8786\n",
            "Epoch 34/100\n",
            "469/469 [==============================] - 1s 2ms/step - loss: 0.3333 - accuracy: 0.8800\n",
            "Epoch 35/100\n",
            "469/469 [==============================] - 1s 2ms/step - loss: 0.3312 - accuracy: 0.8793\n",
            "Epoch 36/100\n",
            "469/469 [==============================] - 1s 2ms/step - loss: 0.3302 - accuracy: 0.8805\n",
            "Epoch 37/100\n",
            "469/469 [==============================] - 1s 2ms/step - loss: 0.3304 - accuracy: 0.8807\n",
            "Epoch 38/100\n",
            "469/469 [==============================] - 1s 2ms/step - loss: 0.3281 - accuracy: 0.8820\n",
            "Epoch 39/100\n",
            "469/469 [==============================] - 1s 2ms/step - loss: 0.3281 - accuracy: 0.8813\n",
            "Epoch 40/100\n",
            "469/469 [==============================] - 1s 2ms/step - loss: 0.3273 - accuracy: 0.8816\n",
            "Epoch 41/100\n",
            "469/469 [==============================] - 1s 2ms/step - loss: 0.3242 - accuracy: 0.8823\n",
            "Epoch 42/100\n",
            "469/469 [==============================] - 1s 2ms/step - loss: 0.3246 - accuracy: 0.8823\n",
            "Epoch 43/100\n",
            "469/469 [==============================] - 1s 2ms/step - loss: 0.3224 - accuracy: 0.8819\n",
            "Epoch 44/100\n",
            "469/469 [==============================] - 1s 2ms/step - loss: 0.3231 - accuracy: 0.8827\n",
            "Epoch 45/100\n",
            "469/469 [==============================] - 1s 2ms/step - loss: 0.3206 - accuracy: 0.8835\n",
            "Epoch 46/100\n",
            "469/469 [==============================] - 1s 2ms/step - loss: 0.3199 - accuracy: 0.8844\n",
            "Epoch 47/100\n",
            "469/469 [==============================] - 1s 2ms/step - loss: 0.3203 - accuracy: 0.8840\n",
            "Epoch 48/100\n",
            "469/469 [==============================] - 1s 2ms/step - loss: 0.3182 - accuracy: 0.8843\n",
            "Epoch 49/100\n",
            "469/469 [==============================] - 1s 2ms/step - loss: 0.3180 - accuracy: 0.8848\n",
            "Epoch 50/100\n",
            "469/469 [==============================] - 1s 2ms/step - loss: 0.3177 - accuracy: 0.8844\n",
            "Epoch 51/100\n",
            "469/469 [==============================] - 1s 2ms/step - loss: 0.3159 - accuracy: 0.8851\n",
            "Epoch 52/100\n",
            "469/469 [==============================] - 1s 2ms/step - loss: 0.3158 - accuracy: 0.8848\n",
            "Epoch 53/100\n",
            "469/469 [==============================] - 1s 2ms/step - loss: 0.3156 - accuracy: 0.8850\n",
            "Epoch 54/100\n",
            "469/469 [==============================] - 1s 2ms/step - loss: 0.3149 - accuracy: 0.8852\n",
            "Epoch 55/100\n",
            "469/469 [==============================] - 1s 2ms/step - loss: 0.3134 - accuracy: 0.8854\n",
            "Epoch 56/100\n",
            "469/469 [==============================] - 1s 2ms/step - loss: 0.3130 - accuracy: 0.8853\n",
            "Epoch 57/100\n",
            "469/469 [==============================] - 1s 2ms/step - loss: 0.3121 - accuracy: 0.8864\n",
            "Epoch 58/100\n",
            "469/469 [==============================] - 1s 2ms/step - loss: 0.3121 - accuracy: 0.8859\n",
            "Epoch 59/100\n",
            "469/469 [==============================] - 1s 2ms/step - loss: 0.3101 - accuracy: 0.8882\n",
            "Epoch 60/100\n",
            "469/469 [==============================] - 1s 2ms/step - loss: 0.3100 - accuracy: 0.8869\n",
            "Epoch 61/100\n",
            "469/469 [==============================] - 1s 2ms/step - loss: 0.3095 - accuracy: 0.8874\n",
            "Epoch 62/100\n",
            "469/469 [==============================] - 1s 2ms/step - loss: 0.3087 - accuracy: 0.8874\n",
            "Epoch 63/100\n",
            "469/469 [==============================] - 1s 2ms/step - loss: 0.3092 - accuracy: 0.8884\n",
            "Epoch 64/100\n",
            "469/469 [==============================] - 1s 2ms/step - loss: 0.3081 - accuracy: 0.8881\n",
            "Epoch 65/100\n",
            "469/469 [==============================] - 1s 2ms/step - loss: 0.3072 - accuracy: 0.8882\n",
            "Epoch 66/100\n",
            "469/469 [==============================] - 1s 3ms/step - loss: 0.3078 - accuracy: 0.8886\n",
            "Epoch 67/100\n",
            "469/469 [==============================] - 1s 2ms/step - loss: 0.3066 - accuracy: 0.8883\n",
            "Epoch 68/100\n",
            "469/469 [==============================] - 1s 2ms/step - loss: 0.3047 - accuracy: 0.8893\n",
            "Epoch 69/100\n",
            "469/469 [==============================] - 1s 2ms/step - loss: 0.3057 - accuracy: 0.8878\n",
            "Epoch 70/100\n",
            "469/469 [==============================] - 1s 2ms/step - loss: 0.3037 - accuracy: 0.8902\n",
            "Epoch 71/100\n",
            "469/469 [==============================] - 1s 2ms/step - loss: 0.3045 - accuracy: 0.8892\n",
            "Epoch 72/100\n",
            "469/469 [==============================] - 1s 2ms/step - loss: 0.3039 - accuracy: 0.8890\n",
            "Epoch 73/100\n",
            "469/469 [==============================] - 1s 2ms/step - loss: 0.3032 - accuracy: 0.8883\n",
            "Epoch 74/100\n",
            "469/469 [==============================] - 1s 2ms/step - loss: 0.3021 - accuracy: 0.8886\n",
            "Epoch 75/100\n",
            "469/469 [==============================] - 1s 2ms/step - loss: 0.3018 - accuracy: 0.8900\n",
            "Epoch 76/100\n",
            "469/469 [==============================] - 1s 2ms/step - loss: 0.3028 - accuracy: 0.8882\n",
            "Epoch 77/100\n",
            "469/469 [==============================] - 1s 2ms/step - loss: 0.3011 - accuracy: 0.8910\n",
            "Epoch 78/100\n",
            "469/469 [==============================] - 1s 2ms/step - loss: 0.2997 - accuracy: 0.8908\n",
            "Epoch 79/100\n",
            "469/469 [==============================] - 1s 2ms/step - loss: 0.3003 - accuracy: 0.8910\n",
            "Epoch 80/100\n",
            "469/469 [==============================] - 1s 2ms/step - loss: 0.3002 - accuracy: 0.8908\n",
            "Epoch 81/100\n",
            "469/469 [==============================] - 1s 2ms/step - loss: 0.2990 - accuracy: 0.8902\n",
            "Epoch 82/100\n",
            "469/469 [==============================] - 1s 2ms/step - loss: 0.2987 - accuracy: 0.8905\n",
            "Epoch 83/100\n",
            "469/469 [==============================] - 1s 2ms/step - loss: 0.2970 - accuracy: 0.8913\n",
            "Epoch 84/100\n",
            "469/469 [==============================] - 1s 2ms/step - loss: 0.2983 - accuracy: 0.8909\n",
            "Epoch 85/100\n",
            "469/469 [==============================] - 1s 2ms/step - loss: 0.2974 - accuracy: 0.8912\n",
            "Epoch 86/100\n",
            "469/469 [==============================] - 1s 2ms/step - loss: 0.2976 - accuracy: 0.8912\n",
            "Epoch 87/100\n",
            "469/469 [==============================] - 1s 2ms/step - loss: 0.2963 - accuracy: 0.8921\n",
            "Epoch 88/100\n",
            "469/469 [==============================] - 1s 2ms/step - loss: 0.2962 - accuracy: 0.8910\n",
            "Epoch 89/100\n",
            "469/469 [==============================] - 1s 2ms/step - loss: 0.2960 - accuracy: 0.8921\n",
            "Epoch 90/100\n",
            "469/469 [==============================] - 1s 2ms/step - loss: 0.2961 - accuracy: 0.8924\n",
            "Epoch 91/100\n",
            "469/469 [==============================] - 1s 2ms/step - loss: 0.2957 - accuracy: 0.8911\n",
            "Epoch 92/100\n",
            "469/469 [==============================] - 1s 2ms/step - loss: 0.2946 - accuracy: 0.8928\n",
            "Epoch 93/100\n",
            "469/469 [==============================] - 1s 2ms/step - loss: 0.2937 - accuracy: 0.8929\n",
            "Epoch 94/100\n",
            "469/469 [==============================] - 1s 2ms/step - loss: 0.2924 - accuracy: 0.8929\n",
            "Epoch 95/100\n",
            "469/469 [==============================] - 1s 2ms/step - loss: 0.2948 - accuracy: 0.8926\n",
            "Epoch 96/100\n",
            "469/469 [==============================] - 1s 2ms/step - loss: 0.2937 - accuracy: 0.8920\n",
            "Epoch 97/100\n",
            "469/469 [==============================] - 1s 2ms/step - loss: 0.2926 - accuracy: 0.8936\n",
            "Epoch 98/100\n",
            "469/469 [==============================] - 1s 2ms/step - loss: 0.2922 - accuracy: 0.8924\n",
            "Epoch 99/100\n",
            "469/469 [==============================] - 1s 2ms/step - loss: 0.2928 - accuracy: 0.8929\n",
            "Epoch 100/100\n",
            "469/469 [==============================] - 1s 2ms/step - loss: 0.2910 - accuracy: 0.8943\n"
          ]
        },
        {
          "output_type": "execute_result",
          "data": {
            "text/plain": [
              "<keras.callbacks.History at 0x7fe83e314710>"
            ]
          },
          "metadata": {},
          "execution_count": 25
        }
      ],
      "source": [
        "import os\n",
        "\n",
        "#https://stackoverflow.com/questions/53014306/error-15-initializing-libiomp5-dylib-but-found-libiomp5-dylib-already-initial\n",
        "# os.environ['KMP_DUPLICATE_LIB_OK']='True' \n",
        "\n",
        "# TODO: Compile and fit your model\n",
        "model = my_model(X_train_norm.shape[1])\n",
        "\n",
        "model.compile(optimizer='adam', loss='categorical_crossentropy', metrics=['accuracy'])\n",
        "\n",
        "model.fit(X_train_norm, y_train_cat, epochs=100, batch_size=128)"
      ]
    },
    {
      "cell_type": "markdown",
      "metadata": {
        "id": "8M5szysNvq-v"
      },
      "source": [
        "Once your model has been trained, compute the accuracy (and other metrics if you want) on the train and test dataset.\n",
        "\n",
        "Be careful, Keras returns softmax output (so an array of 10 values between 0 and 1, for which the sum is equal to 1). To compute correctly the accuracy, you have to convert that array into a categorical array with zeros and a 1."
      ]
    },
    {
      "cell_type": "code",
      "execution_count": 26,
      "metadata": {
        "colab": {
          "base_uri": "https://localhost:8080/"
        },
        "id": "HZZXFkjIvq-v",
        "outputId": "8a4ecbf7-6d7b-4c18-e5a6-9bcd1c88f791"
      },
      "outputs": [
        {
          "output_type": "stream",
          "name": "stdout",
          "text": [
            "accuracy on train with NN: 0.8954333066940308\n",
            "accuracy on test with NN: 0.8555999994277954\n"
          ]
        }
      ],
      "source": [
        "# TODO: Compute the accuracy of your model\n",
        "print('accuracy on train with NN:', model.evaluate(X_train_norm, y_train_cat, verbose=0)[1])\n",
        "print('accuracy on test with NN:', model.evaluate(X_test_norm, y_test_cat, verbose=0)[1])"
      ]
    },
    {
      "cell_type": "markdown",
      "metadata": {
        "id": "FXGVDuicvq-v"
      },
      "source": [
        "What do you think of those results? Can you improve it by changing the number of layers? Of units per layer? The number of epochs? The activation functions?\n",
        "\n",
        "You should try!"
      ]
    },
    {
      "cell_type": "markdown",
      "metadata": {
        "id": "AqinXlpyvq-v"
      },
      "source": [
        "---"
      ]
    },
    {
      "cell_type": "markdown",
      "metadata": {
        "id": "B4UtUzDivq-w"
      },
      "source": [
        "In order to compare your results with more traditional machine learning methods, you will do this work with another method: a PCA followed by a classification model (of your choice). Of course, you can perform hyperparameter optimization using a gridsearch on that model!\n",
        "\n",
        "Fit your model and display the performances."
      ]
    },
    {
      "cell_type": "code",
      "execution_count": 27,
      "metadata": {
        "id": "ZYjMk4JFvq-w"
      },
      "outputs": [],
      "source": [
        "# TODO: Redo the classification with PCA and classification model\n",
        "from sklearn.decomposition import PCA\n",
        "\n",
        "# Reduce from 784 to about 712 dimensions\n",
        "pca = PCA(n_components=0.9)\n",
        "\n",
        "pca.fit(X_train_norm)\n",
        "X_train_pca = pca.transform(X_train_norm)\n",
        "X_test_pca = pca.transform(X_test_norm)"
      ]
    },
    {
      "cell_type": "code",
      "execution_count": 29,
      "metadata": {
        "colab": {
          "base_uri": "https://localhost:8080/"
        },
        "id": "Dfj_-_Dwvq-w",
        "outputId": "d2e9d176-4f5b-4c8e-861b-6f11d2d46c19"
      },
      "outputs": [
        {
          "output_type": "stream",
          "name": "stdout",
          "text": [
            "score with RF on train 0.9064333333333333\n",
            "score with RF on train 0.8826\n"
          ]
        }
      ],
      "source": [
        "# TODO: use any classifier you want\n",
        "# from sklearn.ensemble import RandomForestClassifier\n",
        "from sklearn.svm import SVC\n",
        "\n",
        "rf = SVC()\n",
        "\n",
        "rf.fit(X_train_pca, y_train)\n",
        "\n",
        "print('score with RF on train', rf.score(X_train_pca, y_train))\n",
        "print('score with RF on train', rf.score(X_test_pca, y_test))"
      ]
    },
    {
      "cell_type": "code",
      "source": [
        "from sklearn.ensemble import RandomForestClassifier\n",
        "rf = RandomForestClassifier()\n",
        "\n",
        "rf.fit(X_train_pca, y_train)\n",
        "\n",
        "print('score with RF on train', rf.score(X_train_pca, y_train))\n",
        "print('score with RF on train', rf.score(X_test_pca, y_test))"
      ],
      "metadata": {
        "colab": {
          "base_uri": "https://localhost:8080/"
        },
        "id": "VtvXqJNxRE3N",
        "outputId": "8be9e0c8-3f61-4013-dd4c-c6736dc3556a"
      },
      "execution_count": 30,
      "outputs": [
        {
          "output_type": "stream",
          "name": "stdout",
          "text": [
            "score with RF on train 1.0\n",
            "score with RF on train 0.8598\n"
          ]
        }
      ]
    },
    {
      "cell_type": "code",
      "source": [
        "from sklearn.pipeline import Pipeline\n",
        "pipe = Pipeline([('pca',PCA()),('rf',RandomForestClassifier())])\n",
        "pipe.fit(X_train_norm,y_train)\n",
        "print(\"score with Pipeline on train\",pipe.score(X_train_pca,y_train))\n",
        "print(\"score with Pipeline on test\",pipe.score(X_test_pca,y_test))"
      ],
      "metadata": {
        "colab": {
          "base_uri": "https://localhost:8080/"
        },
        "id": "JtOzOmxDRsk5",
        "outputId": "c6d7be59-82ac-4e6a-b665-ec5f07aaef30"
      },
      "execution_count": 32,
      "outputs": [
        {
          "output_type": "stream",
          "name": "stdout",
          "text": [
            "score with Pipeline on train 1.0\n",
            "score with Pipeline on test 0.8598\n"
          ]
        }
      ]
    },
    {
      "cell_type": "markdown",
      "metadata": {
        "id": "ptdlLSUmvq-w"
      },
      "source": [
        "Are the performances different? Can you explain why?"
      ]
    },
    {
      "cell_type": "markdown",
      "metadata": {
        "id": "WseZD8KMvq-x"
      },
      "source": [
        "If you still have time, you could try to use scikit-learn's `Pipeline` to perform the hyperparameter optimization jointly on the PCA and the classification model. This might improve your performances."
      ]
    }
  ],
  "metadata": {
    "kernelspec": {
      "display_name": "Python 3 (ipykernel)",
      "language": "python",
      "name": "python3"
    },
    "language_info": {
      "codemirror_mode": {
        "name": "ipython",
        "version": 3
      },
      "file_extension": ".py",
      "mimetype": "text/x-python",
      "name": "python",
      "nbconvert_exporter": "python",
      "pygments_lexer": "ipython3",
      "version": "3.9.7"
    },
    "toc": {
      "base_numbering": 1,
      "nav_menu": {},
      "number_sections": true,
      "sideBar": true,
      "skip_h1_title": false,
      "title_cell": "Table of Contents",
      "title_sidebar": "Contents",
      "toc_cell": false,
      "toc_position": {},
      "toc_section_display": true,
      "toc_window_display": false
    },
    "colab": {
      "name": "Fashion.ipynb",
      "provenance": [],
      "collapsed_sections": [],
      "include_colab_link": true
    }
  },
  "nbformat": 4,
  "nbformat_minor": 0
}