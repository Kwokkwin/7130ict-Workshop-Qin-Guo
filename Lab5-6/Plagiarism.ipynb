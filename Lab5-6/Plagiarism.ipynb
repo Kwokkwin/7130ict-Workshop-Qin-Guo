{
 "cells": [
  {
   "cell_type": "markdown",
   "id": "91a80215",
   "metadata": {},
   "source": [
    "# Data loading"
   ]
  },
  {
   "cell_type": "code",
   "execution_count": 1,
   "id": "d8b337a9",
   "metadata": {},
   "outputs": [],
   "source": [
    "file = open('A1.txt', 'r') \n",
    "A1 = file.readlines()[0]\n",
    "\n",
    "file = open('Asource.txt', 'r') \n",
    "A0 = file.readlines()[0]\n",
    "\n",
    "file = open('B1.txt', 'r') \n",
    "B1 = file.readlines()[0]\n",
    "\n",
    "file = open('Bsource.txt', 'r') \n",
    "B0 = file.readlines()[0]\n",
    "\n",
    "file = open('C1.txt', 'r') \n",
    "C1 = file.readlines()[0]\n",
    "\n",
    "file = open('Csource.txt', 'r') \n",
    "C0 = file.readlines()[0]\n",
    "\n",
    "file = open('D1.txt', 'r') \n",
    "D1 = file.readlines()[0]\n",
    "\n",
    "file = open('D2.txt', 'r') \n",
    "D2 = file.readlines()[0]\n",
    "\n",
    "file = open('Dsource.txt', 'r') \n",
    "D0 = file.readlines()[0]"
   ]
  },
  {
   "cell_type": "code",
   "execution_count": 2,
   "id": "eb542b7b",
   "metadata": {},
   "outputs": [
    {
     "data": {
      "text/plain": [
       "'Descartes has been heralded as the first modern philosopher. He is famous for having made an important connection between geometry and algebra, which allowed for the solving of geometrical problems by way of algebraic equations. He is also famous for having promoted a new conception of matter, which allowed for the accounting of physical phenomena by way of mechanical explanations. However, he is most famous for having written a relatively short work, Meditationes de Prima Philosophia (Meditations On First Philosophy), published in 1641, in which he provides a philosophical groundwork for the possibility of the sciences. (Smith, 2007).\\n'"
      ]
     },
     "execution_count": 2,
     "metadata": {},
     "output_type": "execute_result"
    }
   ],
   "source": [
    "C0"
   ]
  },
  {
   "cell_type": "code",
   "execution_count": 3,
   "id": "006f69ac",
   "metadata": {},
   "outputs": [],
   "source": [
    "alldata = [A0, A1, B0, B1, C0, C1, D0, D1, D2]"
   ]
  },
  {
   "cell_type": "markdown",
   "id": "ee3bedf8",
   "metadata": {},
   "source": [
    "# Data preprocessing"
   ]
  },
  {
   "cell_type": "code",
   "execution_count": 4,
   "id": "d0705ebe",
   "metadata": {},
   "outputs": [],
   "source": [
    "#TODO: Compute tf-idf for all documents\n",
    "from sklearn.feature_extraction.text import TfidfVectorizer\n",
    "\n",
    "tfvect = TfidfVectorizer(stop_words=\"english\")\n",
    "\n",
    "#tfvect.fit(alldata)\n",
    "#tfidf = tfvect.transform(alldata).toarray()\n",
    "tfidf = tfvect.fit_transform(alldata).toarray()\n",
    "\n",
    "features=tfvect.get_feature_names()\n",
    "\n",
    "TFIDFA = tfvect.transform([A0, A1]).toarray()\n",
    "TFIDFB = tfvect.transform([B0, B1]).toarray()\n",
    "TFIDFC = tfvect.transform([C0, C1]).toarray()\n",
    "TFIDFD = tfvect.transform([D0, D1, D2]).toarray()"
   ]
  },
  {
   "cell_type": "code",
   "execution_count": 5,
   "id": "d8836799",
   "metadata": {},
   "outputs": [
    {
     "name": "stdout",
     "output_type": "stream",
     "text": [
      "       1641      2007  accounting  activity     acute  addressed      ages  \\\n",
      "0  0.000000  0.000000    0.000000  0.000000  0.000000   0.000000  0.179964   \n",
      "1  0.000000  0.000000    0.000000  0.000000  0.000000   0.000000  0.000000   \n",
      "2  0.000000  0.000000    0.000000  0.000000  0.114752   0.114752  0.000000   \n",
      "3  0.000000  0.000000    0.000000  0.000000  0.118735   0.118735  0.000000   \n",
      "4  0.120840  0.143071    0.120840  0.000000  0.000000   0.000000  0.000000   \n",
      "5  0.151242  0.000000    0.151242  0.000000  0.000000   0.000000  0.000000   \n",
      "6  0.000000  0.000000    0.000000  0.161789  0.000000   0.000000  0.000000   \n",
      "7  0.000000  0.000000    0.000000  0.157191  0.000000   0.000000  0.000000   \n",
      "8  0.000000  0.000000    0.000000  0.000000  0.000000   0.000000  0.000000   \n",
      "\n",
      "        ago   algebra  algebraic  ...  undermine   usually       way  \\\n",
      "0  0.000000  0.000000   0.000000  ...   0.000000  0.000000  0.000000   \n",
      "1  0.189134  0.000000   0.000000  ...   0.000000  0.000000  0.000000   \n",
      "2  0.000000  0.000000   0.000000  ...   0.000000  0.000000  0.000000   \n",
      "3  0.000000  0.000000   0.000000  ...   0.000000  0.140578  0.000000   \n",
      "4  0.000000  0.120840   0.120840  ...   0.000000  0.000000  0.241680   \n",
      "5  0.000000  0.151242   0.151242  ...   0.000000  0.000000  0.302485   \n",
      "6  0.000000  0.000000   0.000000  ...   0.000000  0.000000  0.000000   \n",
      "7  0.000000  0.000000   0.000000  ...   0.000000  0.000000  0.000000   \n",
      "8  0.000000  0.000000   0.000000  ...   0.183616  0.000000  0.000000   \n",
      "\n",
      "     wealth   willing  willingness      work     world   written     years  \n",
      "0  0.152000  0.000000     0.000000  0.000000  0.104196  0.000000  0.000000  \n",
      "1  0.159745  0.000000     0.000000  0.000000  0.109505  0.138894  0.000000  \n",
      "2  0.000000  0.000000     0.000000  0.000000  0.000000  0.000000  0.114752  \n",
      "3  0.000000  0.000000     0.000000  0.000000  0.000000  0.000000  0.118735  \n",
      "4  0.000000  0.000000     0.000000  0.143071  0.000000  0.105067  0.000000  \n",
      "5  0.000000  0.000000     0.000000  0.000000  0.000000  0.131501  0.000000  \n",
      "6  0.000000  0.000000     0.161789  0.000000  0.110907  0.000000  0.000000  \n",
      "7  0.000000  0.000000     0.157191  0.000000  0.107754  0.000000  0.000000  \n",
      "8  0.000000  0.183616     0.000000  0.000000  0.106311  0.000000  0.000000  \n",
      "\n",
      "[9 rows x 182 columns]\n"
     ]
    }
   ],
   "source": [
    "import pandas as pd\n",
    "print(pd.DataFrame(data=tfidf,columns=features))"
   ]
  },
  {
   "cell_type": "markdown",
   "id": "fbe1f03a",
   "metadata": {},
   "source": [
    "# Similarity computation"
   ]
  },
  {
   "cell_type": "code",
   "execution_count": 6,
   "id": "438f05ba",
   "metadata": {},
   "outputs": [],
   "source": [
    "#TODO: pair-wise similarity\n",
    "from sklearn.metrics.pairwise import cosine_similarity\n",
    "\n",
    "similarityAA = cosine_similarity(TFIDFA, TFIDFA)\n",
    "similarityBB = cosine_similarity(TFIDFB, TFIDFB)\n",
    "similarityCC = cosine_similarity(TFIDFC, TFIDFC)\n",
    "similarityDD = cosine_similarity(TFIDFD, TFIDFD)\n",
    "\n",
    "similarityAll = cosine_similarity(tfidf, tfidf)"
   ]
  },
  {
   "cell_type": "code",
   "execution_count": 7,
   "id": "9d2c4ec9",
   "metadata": {},
   "outputs": [
    {
     "data": {
      "text/plain": [
       "array([[1.        , 0.81269313],\n",
       "       [0.81269313, 1.        ]])"
      ]
     },
     "execution_count": 7,
     "metadata": {},
     "output_type": "execute_result"
    }
   ],
   "source": [
    "similarityAA"
   ]
  },
  {
   "cell_type": "code",
   "execution_count": 8,
   "id": "8fb2ac57",
   "metadata": {},
   "outputs": [
    {
     "data": {
      "text/plain": [
       "array([[1.       , 0.6145188],\n",
       "       [0.6145188, 1.       ]])"
      ]
     },
     "execution_count": 8,
     "metadata": {},
     "output_type": "execute_result"
    }
   ],
   "source": [
    "similarityBB"
   ]
  },
  {
   "cell_type": "code",
   "execution_count": 9,
   "id": "0744a68f",
   "metadata": {},
   "outputs": [
    {
     "data": {
      "text/plain": [
       "array([[1.        , 0.79523042],\n",
       "       [0.79523042, 1.        ]])"
      ]
     },
     "execution_count": 9,
     "metadata": {},
     "output_type": "execute_result"
    }
   ],
   "source": [
    "similarityCC"
   ]
  },
  {
   "cell_type": "code",
   "execution_count": 10,
   "id": "c04e3537",
   "metadata": {},
   "outputs": [
    {
     "data": {
      "text/plain": [
       "array([[1.        , 0.9195032 , 0.29631597],\n",
       "       [0.9195032 , 1.        , 0.30632299],\n",
       "       [0.29631597, 0.30632299, 1.        ]])"
      ]
     },
     "execution_count": 10,
     "metadata": {},
     "output_type": "execute_result"
    }
   ],
   "source": [
    "similarityDD"
   ]
  },
  {
   "cell_type": "code",
   "execution_count": 11,
   "id": "1e452069",
   "metadata": {},
   "outputs": [
    {
     "data": {
      "text/plain": [
       "array([[1.        , 0.81269313, 0.        , 0.        , 0.        ,\n",
       "        0.        , 0.01155606, 0.0112276 , 0.01107722],\n",
       "       [0.81269313, 1.        , 0.01385794, 0.01433889, 0.01459315,\n",
       "        0.01826465, 0.01214488, 0.01179969, 0.01164164],\n",
       "       [0.        , 0.01385794, 1.        , 0.6145188 , 0.02434957,\n",
       "        0.        , 0.01095688, 0.01064545, 0.        ],\n",
       "       [0.        , 0.01433889, 0.6145188 , 1.        , 0.01084673,\n",
       "        0.        , 0.01133714, 0.01101491, 0.        ],\n",
       "       [0.        , 0.01459315, 0.02434957, 0.01084673, 1.        ,\n",
       "        0.79523042, 0.        , 0.        , 0.01416745],\n",
       "       [0.        , 0.01826465, 0.        , 0.        , 0.79523042,\n",
       "        1.        , 0.        , 0.        , 0.01773184],\n",
       "       [0.01155606, 0.01214488, 0.01095688, 0.01133714, 0.        ,\n",
       "        0.        , 1.        , 0.9195032 , 0.29631597],\n",
       "       [0.0112276 , 0.01179969, 0.01064545, 0.01101491, 0.        ,\n",
       "        0.        , 0.9195032 , 1.        , 0.30632299],\n",
       "       [0.01107722, 0.01164164, 0.        , 0.        , 0.01416745,\n",
       "        0.01773184, 0.29631597, 0.30632299, 1.        ]])"
      ]
     },
     "execution_count": 11,
     "metadata": {},
     "output_type": "execute_result"
    }
   ],
   "source": [
    "similarityAll"
   ]
  },
  {
   "cell_type": "code",
   "execution_count": 12,
   "id": "05f71782",
   "metadata": {
    "scrolled": false
   },
   "outputs": [
    {
     "data": {
      "image/png": "[encoded data removed]",
      "text/plain": [
       "<Figure size 432x288 with 1 Axes>"
      ]
     },
     "metadata": {
      "needs_background": "light"
     },
     "output_type": "display_data"
    }
   ],
   "source": [
    "import matplotlib.pyplot as plt\n",
    "\n",
    "#TODO: show pair-wise similarity\n",
    "plt.imshow(similarityAll)\n",
    "plt.show()"
   ]
  },
  {
   "cell_type": "code",
   "execution_count": 13,
   "id": "cdc16696",
   "metadata": {},
   "outputs": [
    {
     "data": {
      "text/plain": [
       "<AxesSubplot:>"
      ]
     },
     "execution_count": 13,
     "metadata": {},
     "output_type": "execute_result"
    },
    {
     "data": {
      "image/png": "[encoded data removed]",
      "text/plain": [
       "<Figure size 720x576 with 2 Axes>"
      ]
     },
     "metadata": {
      "needs_background": "light"
     },
     "output_type": "display_data"
    }
   ],
   "source": [
    "import seaborn as sns\n",
    "plt.figure(figsize=(10,8))\n",
    "sns.heatmap(similarityAll,annot=True,xticklabels=[\n",
    "    \"A0\",\n",
    "    \"A1\",\n",
    "    \"B0\",\n",
    "    \"B1\",\n",
    "    \"C0\",\n",
    "    \"C1\",\n",
    "    \"D0\",\n",
    "    \"D1\",\n",
    "    \"D2\"\n",
    "    ]\n",
    "    \n",
    ")"
   ]
  },
  {
   "cell_type": "markdown",
   "id": "bfb826dc",
   "metadata": {},
   "source": [
    "# Threshold definition"
   ]
  },
  {
   "cell_type": "code",
   "execution_count": 14,
   "id": "a1c66094",
   "metadata": {},
   "outputs": [
    {
     "data": {
      "image/png": "[encoded data removed]",
      "text/plain": [
       "<Figure size 432x288 with 1 Axes>"
      ]
     },
     "metadata": {
      "needs_background": "light"
     },
     "output_type": "display_data"
    }
   ],
   "source": [
    "pred_plagiarism = similarityAll>0.2\n",
    "\n",
    "#TODO: show pair-wise similarity\n",
    "plt.imshow(pred_plagiarism)\n",
    "plt.show()"
   ]
  },
  {
   "cell_type": "markdown",
   "id": "965e1d37",
   "metadata": {},
   "source": [
    "# Perf estimation"
   ]
  },
  {
   "cell_type": "code",
   "execution_count": 15,
   "id": "7bf7d674",
   "metadata": {},
   "outputs": [],
   "source": [
    "import numpy as np\n",
    "real_plagiarism = np.zeros((9,9))\n",
    "\n",
    "# TODO: build the true labels matrix (to do automatically would be better...) \n",
    "for i in range(len(real_plagiarism)):\n",
    "    real_plagiarism[i,i] = 1\n",
    "    if i==0 or i==2 or i==4 or i==6:\n",
    "        real_plagiarism[i, i+1] = 1\n",
    "        real_plagiarism[i+1, i] = 1\n",
    "    if i==6:\n",
    "        real_plagiarism[i, i+2] = 1\n",
    "        real_plagiarism[i+1, i+2] = 1\n",
    "        real_plagiarism[i+2, i] = 1\n",
    "        real_plagiarism[i+2, i+1] = 1 "
   ]
  },
  {
   "cell_type": "code",
   "execution_count": 16,
   "id": "96054fff",
   "metadata": {},
   "outputs": [
    {
     "data": {
      "image/png": "[encoded data removed]",
      "text/plain": [
       "<Figure size 432x288 with 1 Axes>"
      ]
     },
     "metadata": {
      "needs_background": "light"
     },
     "output_type": "display_data"
    }
   ],
   "source": [
    "import matplotlib.pyplot as plt\n",
    "plt.imshow(real_plagiarism)\n",
    "plt.show()"
   ]
  },
  {
   "cell_type": "code",
   "execution_count": 17,
   "id": "7a87fa34",
   "metadata": {},
   "outputs": [
    {
     "data": {
      "text/plain": [
       "1.0"
      ]
     },
     "execution_count": 17,
     "metadata": {},
     "output_type": "execute_result"
    }
   ],
   "source": [
    "from sklearn.metrics import accuracy_score\n",
    "\n",
    "#TODO: compute the accuracy score based on true matrices\n",
    "accuracy_score(real_plagiarism,pred_plagiarism)"
   ]
  }
 ],
 "metadata": {
  "kernelspec": {
   "display_name": "Python 3 (ipykernel)",
   "language": "python",
   "name": "python3"
  },
  "language_info": {
   "codemirror_mode": {
    "name": "ipython",
    "version": 3
   },
   "file_extension": ".py",
   "mimetype": "text/x-python",
   "name": "python",
   "nbconvert_exporter": "python",
   "pygments_lexer": "ipython3",
   "version": "3.9.7"
  }
 },
 "nbformat": 4,
 "nbformat_minor": 5
}
