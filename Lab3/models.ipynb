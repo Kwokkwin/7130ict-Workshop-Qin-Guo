{
 "cells": [
  {
   "cell_type": "code",
   "execution_count": 1,
   "id": "79f43c02",
   "metadata": {},
   "outputs": [],
   "source": [
    "#import modules\n",
    "from sklearn import datasets\n",
    "from sklearn.model_selection import train_test_split\n",
    "from sklearn.model_selection import cross_val_score\n",
    "from sklearn.metrics import classification_report\n",
    "from sklearn.metrics import confusion_matrix\n",
    "from sklearn.metrics import accuracy_score\n",
    "from sklearn.neighbors import KNeighborsClassifier\n",
    "from sklearn.svm import SVC\n",
    "from sklearn.naive_bayes import GaussianNB\n",
    "from sklearn.linear_model import LinearRegression\n",
    "from sklearn.linear_model import LogisticRegression\n",
    "\n",
    "import seaborn as sns\n",
    "import numpy as np\n",
    "import matplotlib.pyplot as plt\n",
    "import pandas as pd"
   ]
  },
  {
   "cell_type": "code",
   "execution_count": 2,
   "id": "908d90c1",
   "metadata": {},
   "outputs": [],
   "source": [
    "#Load the digits dataset: digits\n",
    "digits = datasets.load_digits()"
   ]
  },
  {
   "cell_type": "code",
   "execution_count": 3,
   "id": "f98ccece",
   "metadata": {},
   "outputs": [],
   "source": [
    "# Create feature and target arrays\n",
    "X = digits.data\n",
    "y = digits.target\n",
    "\n",
    "# Split into training and test set\n",
    "X_train,X_test,y_train,y_test = train_test_split(X,y,test_size=0.2)"
   ]
  },
  {
   "cell_type": "code",
   "execution_count": 4,
   "id": "21c29ac1",
   "metadata": {},
   "outputs": [
    {
     "data": {
      "image/png": "[encoded data removed]",
      "text/plain": [
       "<Figure size 432x288 with 1 Axes>"
      ]
     },
     "metadata": {
      "needs_background": "light"
     },
     "output_type": "display_data"
    }
   ],
   "source": [
    "import matplotlib.font_manager as font_manager\n",
    "from matplotlib.ticker import FormatStrFormatter\n",
    "\n",
    "plt_n=[]\n",
    "plt_test_score=[]\n",
    "plt_train_score=[]\n",
    "\n",
    "for i in range(1,9):\n",
    "    #if i % 2 == 1:\n",
    "    kNN = KNeighborsClassifier(n_neighbors=i)\n",
    "    kNN.fit(X_train,y_train)\n",
    "    plt_n.append(i)\n",
    "    plt_train_score.append(kNN.score(X_train,y_train))\n",
    "    plt_test_score.append(kNN.score(X_test,y_test))\n",
    "    #if i == 3:\n",
    "        #kNN_acc=(kNN.score(X_test,y_test)/kNN.score(X_train,y_train))\n",
    "        #print(\"{:.3f}\".format(kNN_acc))\n",
    "        #print(kNN_acc)\n",
    "\n",
    "\n",
    "\n",
    "fig,ax = plt.subplots()\n",
    "\n",
    "ax.yaxis.set_major_formatter(FormatStrFormatter('%.3f'))\n",
    "ax.plot(plt_n, plt_test_score, label = 'Testing Accuracy')\n",
    "ax.plot(plt_n, plt_train_score, label = 'Training Accuracy')   \n",
    "\n",
    "\n",
    "plt.xlabel(\"Number of Neighbors\")\n",
    "plt.ylabel('Accuracy')\n",
    "plt.title('k-NN: varying Number of Neighbors')\n",
    "\n",
    "font = font_manager.FontProperties(family='Arial',\n",
    "                                   style='normal')\n",
    "ax.legend(prop=font)\n",
    "\n",
    "plt.show()"
   ]
  },
  {
   "cell_type": "markdown",
   "id": "7f383283",
   "metadata": {},
   "source": [
    "### According to the above line graph, k=3 is the best fit. While k=3, Testing Accuracy and Training Accuracy are both high.\n",
    "\n",
    "Note:when choosing an even number, there may be a tie, and then it is impossible or random to return a classification, which is uncertain. Generally avoid this situation and use k odd."
   ]
  },
  {
   "cell_type": "code",
   "execution_count": 5,
   "id": "bacf121a",
   "metadata": {},
   "outputs": [],
   "source": [
    "kNN = KNeighborsClassifier(n_neighbors=3)\n",
    "kNN.fit(X_train,y_train) \n",
    "y_pred=kNN.predict(X_test)\n",
    "kNN_acc=accuracy_score(y_test,y_pred)\n",
    "#print(kNN_acc)"
   ]
  },
  {
   "cell_type": "code",
   "execution_count": 6,
   "id": "b5487d29",
   "metadata": {},
   "outputs": [
    {
     "name": "stdout",
     "output_type": "stream",
     "text": [
      "              precision    recall  f1-score   support\n",
      "\n",
      "           0       1.00      1.00      1.00        36\n",
      "           1       0.89      1.00      0.94        42\n",
      "           2       1.00      1.00      1.00        35\n",
      "           3       1.00      1.00      1.00        36\n",
      "           4       1.00      1.00      1.00        26\n",
      "           5       1.00      0.97      0.98        32\n",
      "           6       0.97      1.00      0.99        35\n",
      "           7       1.00      0.97      0.98        33\n",
      "           8       1.00      0.89      0.94        46\n",
      "           9       0.97      1.00      0.99        39\n",
      "\n",
      "    accuracy                           0.98       360\n",
      "   macro avg       0.98      0.98      0.98       360\n",
      "weighted avg       0.98      0.98      0.98       360\n",
      "\n"
     ]
    }
   ],
   "source": [
    "svc=SVC(kernel=\"linear\")#'linear', 'poly', 'rbf', 'sigmoid', 'precomputed'\n",
    "svc.fit(X_train,y_train)\n",
    "y_pred=svc.predict(X_test)\n",
    "print(classification_report(y_test,y_pred))"
   ]
  },
  {
   "cell_type": "code",
   "execution_count": 7,
   "id": "3003790f",
   "metadata": {},
   "outputs": [
    {
     "name": "stdout",
     "output_type": "stream",
     "text": [
      "              precision    recall  f1-score   support\n",
      "\n",
      "           0       1.00      1.00      1.00        36\n",
      "           1       0.95      1.00      0.98        42\n",
      "           2       1.00      1.00      1.00        35\n",
      "           3       1.00      1.00      1.00        36\n",
      "           4       1.00      1.00      1.00        26\n",
      "           5       1.00      0.97      0.98        32\n",
      "           6       0.97      1.00      0.99        35\n",
      "           7       1.00      0.97      0.98        33\n",
      "           8       1.00      0.96      0.98        46\n",
      "           9       0.97      1.00      0.99        39\n",
      "\n",
      "    accuracy                           0.99       360\n",
      "   macro avg       0.99      0.99      0.99       360\n",
      "weighted avg       0.99      0.99      0.99       360\n",
      "\n"
     ]
    }
   ],
   "source": [
    "svc=SVC(kernel=\"rbf\")\n",
    "svc.fit(X_train,y_train)\n",
    "y_pred=svc.predict(X_test)\n",
    "print(classification_report(y_test,y_pred))"
   ]
  },
  {
   "cell_type": "code",
   "execution_count": 8,
   "id": "bcaf356d",
   "metadata": {},
   "outputs": [
    {
     "name": "stdout",
     "output_type": "stream",
     "text": [
      "              precision    recall  f1-score   support\n",
      "\n",
      "           0       1.00      1.00      1.00        36\n",
      "           1       0.95      1.00      0.98        42\n",
      "           2       1.00      1.00      1.00        35\n",
      "           3       1.00      1.00      1.00        36\n",
      "           4       1.00      1.00      1.00        26\n",
      "           5       1.00      0.97      0.98        32\n",
      "           6       0.97      1.00      0.99        35\n",
      "           7       1.00      0.97      0.98        33\n",
      "           8       1.00      0.96      0.98        46\n",
      "           9       0.97      1.00      0.99        39\n",
      "\n",
      "    accuracy                           0.99       360\n",
      "   macro avg       0.99      0.99      0.99       360\n",
      "weighted avg       0.99      0.99      0.99       360\n",
      "\n"
     ]
    }
   ],
   "source": [
    "svc=SVC(kernel=\"poly\")\n",
    "svc.fit(X_train,y_train)\n",
    "y_pred=svc.predict(X_test)\n",
    "print(classification_report(y_test,y_pred))\n",
    "svc_acc=accuracy_score(y_test,y_pred)\n",
    "#print(svc_acc)"
   ]
  },
  {
   "cell_type": "markdown",
   "id": "8b15594b",
   "metadata": {},
   "source": [
    "### Conclusion:  For all of the three kernels,The indicators of the precision, recall, f1-score , accuracy, macro avg and weighted avg are all more than 95%. In this case, We choose kernel poly.( we choose higher accuracy and higher precision,recall and f1-score)"
   ]
  },
  {
   "cell_type": "code",
   "execution_count": 9,
   "id": "350d22bb",
   "metadata": {},
   "outputs": [
    {
     "data": {
      "image/png": "[encoded data removed]",
      "text/plain": [
       "<Figure size 720x576 with 2 Axes>"
      ]
     },
     "metadata": {
      "needs_background": "light"
     },
     "output_type": "display_data"
    }
   ],
   "source": [
    "bayes = GaussianNB()\n",
    "bayes.fit(X_train,y_train)\n",
    "y_pred = bayes. predict(X_test)\n",
    "    \n",
    "accuracy_matrix = confusion_matrix(y_test,y_pred)\n",
    "#print(accuracy_matrix)\n",
    "plt.figure(figsize=(10,8))\n",
    "sns.heatmap(accuracy_matrix,annot=True)\n",
    "    \n",
    "plt.xlabel(\"Predicted label\")\n",
    "plt.ylabel(\"True label\")\n",
    "plt.show()"
   ]
  },
  {
   "cell_type": "code",
   "execution_count": 10,
   "id": "86d4967d",
   "metadata": {},
   "outputs": [
    {
     "name": "stdout",
     "output_type": "stream",
     "text": [
      "The accuracy of number 0 is:1.00\n",
      "The accuracy of number 1 is:0.79\n",
      "The accuracy of number 2 is:0.60\n",
      "The accuracy of number 3 is:0.83\n",
      "The accuracy of number 4 is:0.88\n",
      "The accuracy of number 5 is:0.94\n",
      "The accuracy of number 6 is:0.97\n",
      "The accuracy of number 7 is:0.94\n",
      "The accuracy of number 8 is:0.87\n",
      "The accuracy of number 9 is:0.77\n"
     ]
    }
   ],
   "source": [
    "total_acc=0\n",
    "i_acc=0\n",
    "for i in range(0,10):\n",
    "    #print(\"{} {}\".format(accuracy_matrix[i,i],np.sum(accuracy_matrix,axis=1)[i]))\n",
    "    i_acc = accuracy_matrix[i,i]/np.sum(accuracy_matrix,axis=1)[i]\n",
    "    total_acc = total_acc + i_acc\n",
    "    print(\"The accuracy of number {} is:{:.2f}\".format(i,i_acc))\n",
    "          \n",
    "#bayes_acc=float(\"{:.2f}\".format(total_acc/10))\n",
    "bayes_acc=total_acc/10\n",
    "#print(bayes_acc)"
   ]
  },
  {
   "cell_type": "markdown",
   "id": "0529a734",
   "metadata": {},
   "source": [
    "### Conclusion: The number 2 and 9 have very low accuracy. If we look at the heatmap, we can easily know that number 2 is mistaken for 8 and number 9 is mistaken for 7 and 8."
   ]
  },
  {
   "cell_type": "code",
   "execution_count": 11,
   "id": "b6ba0e2f",
   "metadata": {},
   "outputs": [
    {
     "data": {
      "image/png": "[encoded data removed]",
      "text/plain": [
       "<Figure size 432x288 with 1 Axes>"
      ]
     },
     "metadata": {
      "needs_background": "light"
     },
     "output_type": "display_data"
    }
   ],
   "source": [
    "fig,ax = plt.subplots()\n",
    "xValue = ['Bayes', 'KNN Classifier', 'SVM']\n",
    "yValue = [bayes_acc,kNN_acc,svc_acc]\n",
    "\n",
    "ax.bar(xValue,yValue)\n",
    "\n",
    "plt.xlabel('Classifier')\n",
    "plt.ylabel('Accuracy')\n",
    "\n",
    "plt.show()"
   ]
  },
  {
   "cell_type": "code",
   "execution_count": 12,
   "id": "6c52bb99",
   "metadata": {},
   "outputs": [
    {
     "data": {
      "text/html": [
       "<div>\n",
       "<style scoped>\n",
       "    .dataframe tbody tr th:only-of-type {\n",
       "        vertical-align: middle;\n",
       "    }\n",
       "\n",
       "    .dataframe tbody tr th {\n",
       "        vertical-align: top;\n",
       "    }\n",
       "\n",
       "    .dataframe thead th {\n",
       "        text-align: right;\n",
       "    }\n",
       "</style>\n",
       "<table border=\"1\" class=\"dataframe\">\n",
       "  <thead>\n",
       "    <tr style=\"text-align: right;\">\n",
       "      <th></th>\n",
       "      <th>population</th>\n",
       "      <th>fertility</th>\n",
       "      <th>HIV</th>\n",
       "      <th>CO2</th>\n",
       "      <th>BMI_male</th>\n",
       "      <th>GDP</th>\n",
       "      <th>BMI_female</th>\n",
       "      <th>life</th>\n",
       "      <th>child_mortality</th>\n",
       "      <th>Region</th>\n",
       "    </tr>\n",
       "  </thead>\n",
       "  <tbody>\n",
       "    <tr>\n",
       "      <th>0</th>\n",
       "      <td>34811059</td>\n",
       "      <td>2.73</td>\n",
       "      <td>0.1</td>\n",
       "      <td>3.328945</td>\n",
       "      <td>24.59620</td>\n",
       "      <td>12314</td>\n",
       "      <td>129.9049</td>\n",
       "      <td>75.3</td>\n",
       "      <td>29.5</td>\n",
       "      <td>Middle East &amp; North Africa</td>\n",
       "    </tr>\n",
       "    <tr>\n",
       "      <th>1</th>\n",
       "      <td>19842251</td>\n",
       "      <td>6.43</td>\n",
       "      <td>2.0</td>\n",
       "      <td>1.474353</td>\n",
       "      <td>22.25083</td>\n",
       "      <td>7103</td>\n",
       "      <td>130.1247</td>\n",
       "      <td>58.3</td>\n",
       "      <td>192.0</td>\n",
       "      <td>Sub-Saharan Africa</td>\n",
       "    </tr>\n",
       "    <tr>\n",
       "      <th>2</th>\n",
       "      <td>40381860</td>\n",
       "      <td>2.24</td>\n",
       "      <td>0.5</td>\n",
       "      <td>4.785170</td>\n",
       "      <td>27.50170</td>\n",
       "      <td>14646</td>\n",
       "      <td>118.8915</td>\n",
       "      <td>75.5</td>\n",
       "      <td>15.4</td>\n",
       "      <td>America</td>\n",
       "    </tr>\n",
       "    <tr>\n",
       "      <th>3</th>\n",
       "      <td>2975029</td>\n",
       "      <td>1.40</td>\n",
       "      <td>0.1</td>\n",
       "      <td>1.804106</td>\n",
       "      <td>25.35542</td>\n",
       "      <td>7383</td>\n",
       "      <td>132.8108</td>\n",
       "      <td>72.5</td>\n",
       "      <td>20.0</td>\n",
       "      <td>Europe &amp; Central Asia</td>\n",
       "    </tr>\n",
       "    <tr>\n",
       "      <th>4</th>\n",
       "      <td>21370348</td>\n",
       "      <td>1.96</td>\n",
       "      <td>0.1</td>\n",
       "      <td>18.016313</td>\n",
       "      <td>27.56373</td>\n",
       "      <td>41312</td>\n",
       "      <td>117.3755</td>\n",
       "      <td>81.5</td>\n",
       "      <td>5.2</td>\n",
       "      <td>East Asia &amp; Pacific</td>\n",
       "    </tr>\n",
       "  </tbody>\n",
       "</table>\n",
       "</div>"
      ],
      "text/plain": [
       "   population  fertility  HIV        CO2  BMI_male    GDP  BMI_female  life  \\\n",
       "0    34811059       2.73  0.1   3.328945  24.59620  12314    129.9049  75.3   \n",
       "1    19842251       6.43  2.0   1.474353  22.25083   7103    130.1247  58.3   \n",
       "2    40381860       2.24  0.5   4.785170  27.50170  14646    118.8915  75.5   \n",
       "3     2975029       1.40  0.1   1.804106  25.35542   7383    132.8108  72.5   \n",
       "4    21370348       1.96  0.1  18.016313  27.56373  41312    117.3755  81.5   \n",
       "\n",
       "   child_mortality                      Region  \n",
       "0             29.5  Middle East & North Africa  \n",
       "1            192.0          Sub-Saharan Africa  \n",
       "2             15.4                     America  \n",
       "3             20.0       Europe & Central Asia  \n",
       "4              5.2         East Asia & Pacific  "
      ]
     },
     "execution_count": 12,
     "metadata": {},
     "output_type": "execute_result"
    }
   ],
   "source": [
    "import pandas as pd\n",
    "df=pd.read_csv(\"gapminder.csv\")\n",
    "df.head(5)"
   ]
  },
  {
   "cell_type": "code",
   "execution_count": 13,
   "id": "0da2caf4",
   "metadata": {},
   "outputs": [
    {
     "data": {
      "text/plain": [
       "<AxesSubplot:>"
      ]
     },
     "execution_count": 13,
     "metadata": {},
     "output_type": "execute_result"
    },
    {
     "data": {
      "image/png": "[encoded data removed]",
      "text/plain": [
       "<Figure size 432x288 with 2 Axes>"
      ]
     },
     "metadata": {
      "needs_background": "light"
     },
     "output_type": "display_data"
    }
   ],
   "source": [
    "#df.corr()\n",
    "sns.heatmap(df.corr(), cmap=\"RdYlGn\")"
   ]
  },
  {
   "cell_type": "code",
   "execution_count": 14,
   "id": "a32a7d59",
   "metadata": {},
   "outputs": [
    {
     "data": {
      "text/plain": [
       "[<matplotlib.lines.Line2D at 0x7fcba5388d60>]"
      ]
     },
     "execution_count": 14,
     "metadata": {},
     "output_type": "execute_result"
    },
    {
     "data": {
      "image/png": "[encoded data removed]",
      "text/plain": [
       "<Figure size 432x288 with 1 Axes>"
      ]
     },
     "metadata": {
      "needs_background": "light"
     },
     "output_type": "display_data"
    }
   ],
   "source": [
    "from sklearn.linear_model import LinearRegression\n",
    "\n",
    "X_train = df[[\"fertility\"]]\n",
    "y_train = df[\"life\"]\n",
    "#print(X_train)\n",
    "#print(X_train[:,None])\n",
    "reg = LinearRegression()\n",
    "reg.fit(X_train,y_train)\n",
    "\n",
    "plt.plot(X_train,y_train,\"bo\")\n",
    "plt.plot(X_train,reg.predict(X_train),\"k-\")\n"
   ]
  },
  {
   "cell_type": "code",
   "execution_count": 15,
   "id": "ee3bba1e",
   "metadata": {},
   "outputs": [
    {
     "data": {
      "text/plain": [
       "[<matplotlib.lines.Line2D at 0x7fcba4aa5580>,\n",
       " <matplotlib.lines.Line2D at 0x7fcba4b5eb20>,\n",
       " <matplotlib.lines.Line2D at 0x7fcba4b5ec70>,\n",
       " <matplotlib.lines.Line2D at 0x7fcba4b5e6d0>,\n",
       " <matplotlib.lines.Line2D at 0x7fcba4b5e460>,\n",
       " <matplotlib.lines.Line2D at 0x7fcba4b5e910>,\n",
       " <matplotlib.lines.Line2D at 0x7fcba4b5e280>]"
      ]
     },
     "execution_count": 15,
     "metadata": {},
     "output_type": "execute_result"
    },
    {
     "data": {
      "image/png": "[encoded data removed]",
      "text/plain": [
       "<Figure size 432x288 with 1 Axes>"
      ]
     },
     "metadata": {
      "needs_background": "light"
     },
     "output_type": "display_data"
    }
   ],
   "source": [
    "X_train_all = df[['fertility', 'HIV', 'CO2', 'BMI_male', 'GDP',\n",
    "       'BMI_female', 'child_mortality']]\n",
    "y_train_all = df[\"life\"]\n",
    "reg_all=LinearRegression()\n",
    "reg_all.fit(X_train_all,y_train_all)\n",
    "\n",
    "plt.plot(X_train_all,y_train_all,\"bo\")\n",
    "plt.plot(X_train_all,reg_all.predict(X_train_all),\"k-\")\n"
   ]
  },
  {
   "cell_type": "code",
   "execution_count": 16,
   "id": "47365600",
   "metadata": {},
   "outputs": [
    {
     "name": "stdout",
     "output_type": "stream",
     "text": [
      "0.6192442167740035\n",
      "0.8974995317332959\n"
     ]
    }
   ],
   "source": [
    "print(reg.score(X_train,y_train))\n",
    "print(reg_all.score(X_train_all,y_train_all))"
   ]
  },
  {
   "cell_type": "markdown",
   "id": "2961e161",
   "metadata": {},
   "source": [
    "### Conclusion: The model with all features has a higher model score, which means that apart from fertility, there are other features that are highly relevant to life."
   ]
  },
  {
   "cell_type": "code",
   "execution_count": 17,
   "id": "df004e8a",
   "metadata": {},
   "outputs": [
    {
     "name": "stdout",
     "output_type": "stream",
     "text": [
      "Accuracy with fertility: 0.617 (0.094)\n",
      "Accuracy with all features: 0.863 (0.053)\n"
     ]
    }
   ],
   "source": [
    "from numpy import mean\n",
    "from numpy import std\n",
    "reg_score=cross_val_score(reg,X_train,y_train,cv=5)\n",
    "reg_all_score= cross_val_score(reg_all,X_train_all,y_train_all) # default cv=5\n",
    "# report performance\n",
    "print('Accuracy with fertility: %.3f (%.3f)' % (mean(reg_score), std(reg_score)))\n",
    "print('Accuracy with all features: %.3f (%.3f)' % (mean(reg_all_score), std(reg_all_score)))"
   ]
  },
  {
   "cell_type": "markdown",
   "id": "221b2edf",
   "metadata": {},
   "source": [
    "### Conclusion: We can see that the model with all features achieved an estimated classification accuracy of about 86.3 percent. The accuracy is more higher than model with fertility, and also have smaller deviation."
   ]
  },
  {
   "cell_type": "code",
   "execution_count": 18,
   "id": "22728eec",
   "metadata": {},
   "outputs": [
    {
     "name": "stdout",
     "output_type": "stream",
     "text": [
      "(284807, 31)\n"
     ]
    },
    {
     "data": {
      "text/html": [
       "<div>\n",
       "<style scoped>\n",
       "    .dataframe tbody tr th:only-of-type {\n",
       "        vertical-align: middle;\n",
       "    }\n",
       "\n",
       "    .dataframe tbody tr th {\n",
       "        vertical-align: top;\n",
       "    }\n",
       "\n",
       "    .dataframe thead th {\n",
       "        text-align: right;\n",
       "    }\n",
       "</style>\n",
       "<table border=\"1\" class=\"dataframe\">\n",
       "  <thead>\n",
       "    <tr style=\"text-align: right;\">\n",
       "      <th></th>\n",
       "      <th>Time</th>\n",
       "      <th>V1</th>\n",
       "      <th>V2</th>\n",
       "      <th>V3</th>\n",
       "      <th>V4</th>\n",
       "      <th>V5</th>\n",
       "      <th>V6</th>\n",
       "      <th>V7</th>\n",
       "      <th>V8</th>\n",
       "      <th>V9</th>\n",
       "      <th>...</th>\n",
       "      <th>V21</th>\n",
       "      <th>V22</th>\n",
       "      <th>V23</th>\n",
       "      <th>V24</th>\n",
       "      <th>V25</th>\n",
       "      <th>V26</th>\n",
       "      <th>V27</th>\n",
       "      <th>V28</th>\n",
       "      <th>Amount</th>\n",
       "      <th>Class</th>\n",
       "    </tr>\n",
       "  </thead>\n",
       "  <tbody>\n",
       "    <tr>\n",
       "      <th>0</th>\n",
       "      <td>0.0</td>\n",
       "      <td>-1.359807</td>\n",
       "      <td>-0.072781</td>\n",
       "      <td>2.536347</td>\n",
       "      <td>1.378155</td>\n",
       "      <td>-0.338321</td>\n",
       "      <td>0.462388</td>\n",
       "      <td>0.239599</td>\n",
       "      <td>0.098698</td>\n",
       "      <td>0.363787</td>\n",
       "      <td>...</td>\n",
       "      <td>-0.018307</td>\n",
       "      <td>0.277838</td>\n",
       "      <td>-0.110474</td>\n",
       "      <td>0.066928</td>\n",
       "      <td>0.128539</td>\n",
       "      <td>-0.189115</td>\n",
       "      <td>0.133558</td>\n",
       "      <td>-0.021053</td>\n",
       "      <td>149.62</td>\n",
       "      <td>0</td>\n",
       "    </tr>\n",
       "    <tr>\n",
       "      <th>1</th>\n",
       "      <td>0.0</td>\n",
       "      <td>1.191857</td>\n",
       "      <td>0.266151</td>\n",
       "      <td>0.166480</td>\n",
       "      <td>0.448154</td>\n",
       "      <td>0.060018</td>\n",
       "      <td>-0.082361</td>\n",
       "      <td>-0.078803</td>\n",
       "      <td>0.085102</td>\n",
       "      <td>-0.255425</td>\n",
       "      <td>...</td>\n",
       "      <td>-0.225775</td>\n",
       "      <td>-0.638672</td>\n",
       "      <td>0.101288</td>\n",
       "      <td>-0.339846</td>\n",
       "      <td>0.167170</td>\n",
       "      <td>0.125895</td>\n",
       "      <td>-0.008983</td>\n",
       "      <td>0.014724</td>\n",
       "      <td>2.69</td>\n",
       "      <td>0</td>\n",
       "    </tr>\n",
       "    <tr>\n",
       "      <th>2</th>\n",
       "      <td>1.0</td>\n",
       "      <td>-1.358354</td>\n",
       "      <td>-1.340163</td>\n",
       "      <td>1.773209</td>\n",
       "      <td>0.379780</td>\n",
       "      <td>-0.503198</td>\n",
       "      <td>1.800499</td>\n",
       "      <td>0.791461</td>\n",
       "      <td>0.247676</td>\n",
       "      <td>-1.514654</td>\n",
       "      <td>...</td>\n",
       "      <td>0.247998</td>\n",
       "      <td>0.771679</td>\n",
       "      <td>0.909412</td>\n",
       "      <td>-0.689281</td>\n",
       "      <td>-0.327642</td>\n",
       "      <td>-0.139097</td>\n",
       "      <td>-0.055353</td>\n",
       "      <td>-0.059752</td>\n",
       "      <td>378.66</td>\n",
       "      <td>0</td>\n",
       "    </tr>\n",
       "    <tr>\n",
       "      <th>3</th>\n",
       "      <td>1.0</td>\n",
       "      <td>-0.966272</td>\n",
       "      <td>-0.185226</td>\n",
       "      <td>1.792993</td>\n",
       "      <td>-0.863291</td>\n",
       "      <td>-0.010309</td>\n",
       "      <td>1.247203</td>\n",
       "      <td>0.237609</td>\n",
       "      <td>0.377436</td>\n",
       "      <td>-1.387024</td>\n",
       "      <td>...</td>\n",
       "      <td>-0.108300</td>\n",
       "      <td>0.005274</td>\n",
       "      <td>-0.190321</td>\n",
       "      <td>-1.175575</td>\n",
       "      <td>0.647376</td>\n",
       "      <td>-0.221929</td>\n",
       "      <td>0.062723</td>\n",
       "      <td>0.061458</td>\n",
       "      <td>123.50</td>\n",
       "      <td>0</td>\n",
       "    </tr>\n",
       "    <tr>\n",
       "      <th>4</th>\n",
       "      <td>2.0</td>\n",
       "      <td>-1.158233</td>\n",
       "      <td>0.877737</td>\n",
       "      <td>1.548718</td>\n",
       "      <td>0.403034</td>\n",
       "      <td>-0.407193</td>\n",
       "      <td>0.095921</td>\n",
       "      <td>0.592941</td>\n",
       "      <td>-0.270533</td>\n",
       "      <td>0.817739</td>\n",
       "      <td>...</td>\n",
       "      <td>-0.009431</td>\n",
       "      <td>0.798278</td>\n",
       "      <td>-0.137458</td>\n",
       "      <td>0.141267</td>\n",
       "      <td>-0.206010</td>\n",
       "      <td>0.502292</td>\n",
       "      <td>0.219422</td>\n",
       "      <td>0.215153</td>\n",
       "      <td>69.99</td>\n",
       "      <td>0</td>\n",
       "    </tr>\n",
       "  </tbody>\n",
       "</table>\n",
       "<p>5 rows × 31 columns</p>\n",
       "</div>"
      ],
      "text/plain": [
       "   Time        V1        V2        V3        V4        V5        V6        V7  \\\n",
       "0   0.0 -1.359807 -0.072781  2.536347  1.378155 -0.338321  0.462388  0.239599   \n",
       "1   0.0  1.191857  0.266151  0.166480  0.448154  0.060018 -0.082361 -0.078803   \n",
       "2   1.0 -1.358354 -1.340163  1.773209  0.379780 -0.503198  1.800499  0.791461   \n",
       "3   1.0 -0.966272 -0.185226  1.792993 -0.863291 -0.010309  1.247203  0.237609   \n",
       "4   2.0 -1.158233  0.877737  1.548718  0.403034 -0.407193  0.095921  0.592941   \n",
       "\n",
       "         V8        V9  ...       V21       V22       V23       V24       V25  \\\n",
       "0  0.098698  0.363787  ... -0.018307  0.277838 -0.110474  0.066928  0.128539   \n",
       "1  0.085102 -0.255425  ... -0.225775 -0.638672  0.101288 -0.339846  0.167170   \n",
       "2  0.247676 -1.514654  ...  0.247998  0.771679  0.909412 -0.689281 -0.327642   \n",
       "3  0.377436 -1.387024  ... -0.108300  0.005274 -0.190321 -1.175575  0.647376   \n",
       "4 -0.270533  0.817739  ... -0.009431  0.798278 -0.137458  0.141267 -0.206010   \n",
       "\n",
       "        V26       V27       V28  Amount  Class  \n",
       "0 -0.189115  0.133558 -0.021053  149.62      0  \n",
       "1  0.125895 -0.008983  0.014724    2.69      0  \n",
       "2 -0.139097 -0.055353 -0.059752  378.66      0  \n",
       "3 -0.221929  0.062723  0.061458  123.50      0  \n",
       "4  0.502292  0.219422  0.215153   69.99      0  \n",
       "\n",
       "[5 rows x 31 columns]"
      ]
     },
     "execution_count": 18,
     "metadata": {},
     "output_type": "execute_result"
    }
   ],
   "source": [
    "df=pd.read_csv(\"creditcard.csv\")\n",
    "print(df.shape)\n",
    "df.head(5)"
   ]
  },
  {
   "cell_type": "code",
   "execution_count": 19,
   "id": "fbb48171",
   "metadata": {},
   "outputs": [
    {
     "data": {
      "text/plain": [
       "Text(0, 0.5, 'Class')"
      ]
     },
     "execution_count": 19,
     "metadata": {},
     "output_type": "execute_result"
    },
    {
     "data": {
      "image/png": "[encoded data removed]",
      "text/plain": [
       "<Figure size 432x288 with 1 Axes>"
      ]
     },
     "metadata": {
      "needs_background": "light"
     },
     "output_type": "display_data"
    }
   ],
   "source": [
    "frauds =df.loc[df['Class'] == 1]\n",
    "non_frauds = df.loc[df['Class'] == 0]\n",
    "plt.plot(frauds.Amount,frauds.Class,'o',color='orange',label='Frauds')\n",
    "plt.plot(non_frauds.Amount,non_frauds.Class,'o',color='Blue',label='Normal')\n",
    "plt.legend()\n",
    "plt.xlabel(\"Amount\")\n",
    "plt.ylabel(\"Class\")\n",
    "#print(len(frauds),\"frauds,\",len(non_frauds),\"nonfrauds.\")"
   ]
  },
  {
   "cell_type": "markdown",
   "id": "d5052a72",
   "metadata": {},
   "source": [
    "### Conclusion：The amount of All frauds are less than 2500. Users tend to make small transactions。"
   ]
  },
  {
   "cell_type": "code",
   "execution_count": 20,
   "id": "27ce8867",
   "metadata": {},
   "outputs": [
    {
     "name": "stdout",
     "output_type": "stream",
     "text": [
      "[[284259     56]\n",
      " [   188    304]]\n"
     ]
    },
    {
     "data": {
      "text/plain": [
       "<AxesSubplot:>"
      ]
     },
     "execution_count": 20,
     "metadata": {},
     "output_type": "execute_result"
    },
    {
     "data": {
      "image/png": "[encoded data removed]",
      "text/plain": [
       "<Figure size 432x288 with 2 Axes>"
      ]
     },
     "metadata": {
      "needs_background": "light"
     },
     "output_type": "display_data"
    }
   ],
   "source": [
    "#logistic regression\n",
    "X=df.drop(\"Class\",axis=1)\n",
    "y=df.Class\n",
    "\n",
    "log_regression = LogisticRegression(solver='lbfgs',max_iter=500)\n",
    "log_regression.fit(X,y)\n",
    "y_pred= log_regression.predict(X)\n",
    "conf_matrix=confusion_matrix(y,y_pred)\n",
    "print(conf_matrix)\n",
    "sns.heatmap(conf_matrix, annot=True,fmt='d')\n"
   ]
  }
 ],
 "metadata": {
  "kernelspec": {
   "display_name": "Python 3 (ipykernel)",
   "language": "python",
   "name": "python3"
  },
  "language_info": {
   "codemirror_mode": {
    "name": "ipython",
    "version": 3
   },
   "file_extension": ".py",
   "mimetype": "text/x-python",
   "name": "python",
   "nbconvert_exporter": "python",
   "pygments_lexer": "ipython3",
   "version": "3.8.2"
  }
 },
 "nbformat": 4,
 "nbformat_minor": 5
}
